{
  "cells": [
    {
      "cell_type": "markdown",
      "metadata": {
        "id": "view-in-github",
        "colab_type": "text"
      },
      "source": [
        "<a href=\"https://colab.research.google.com/github/KangTuna/Machine-learning-and-deep-learning-practices/blob/main/DCGAN.ipynb\" target=\"_parent\"><img src=\"https://colab.research.google.com/assets/colab-badge.svg\" alt=\"Open In Colab\"/></a>"
      ]
    },
    {
      "cell_type": "code",
      "execution_count": null,
      "metadata": {
        "id": "SBSqdjaZTYI5"
      },
      "outputs": [],
      "source": [
        "import math\n",
        "import torch\n",
        "import matplotlib.pyplot as plt\n",
        "import numpy as np\n",
        "import pandas as pd\n",
        "import torch.nn as nn\n",
        "import torch.optim as optim"
      ]
    },
    {
      "cell_type": "code",
      "execution_count": null,
      "metadata": {
        "id": "Z9Sa3DfQV1hP"
      },
      "outputs": [],
      "source": [
        "import torchvision\n",
        "import torchvision.transforms as transforms\n",
        "from torch.utils.data import Dataset, DataLoader\n",
        "import torchvision.datasets as datasets"
      ]
    },
    {
      "cell_type": "code",
      "execution_count": null,
      "metadata": {
        "colab": {
          "base_uri": "https://localhost:8080/"
        },
        "id": "II7e-ZLiV-L_",
        "outputId": "605ca3bf-d5c0-4ee0-ea4a-88d0f53d8d22"
      },
      "outputs": [
        {
          "output_type": "stream",
          "name": "stdout",
          "text": [
            "cuda:0\n"
          ]
        }
      ],
      "source": [
        "# 디바이스 할당\n",
        "device = torch.device(\"cuda:0\" if torch.cuda.is_available() else \"cpu\")\n",
        "print(device)"
      ]
    },
    {
      "cell_type": "code",
      "source": [
        "from google.colab import drive\n",
        "drive.mount('/content/drive')"
      ],
      "metadata": {
        "colab": {
          "base_uri": "https://localhost:8080/"
        },
        "id": "LMppOzmbaxrh",
        "outputId": "c9a18beb-d309-4764-ea77-911cbbc0f81c"
      },
      "execution_count": null,
      "outputs": [
        {
          "output_type": "stream",
          "name": "stdout",
          "text": [
            "Mounted at /content/drive\n"
          ]
        }
      ]
    },
    {
      "cell_type": "code",
      "execution_count": null,
      "metadata": {
        "id": "i5IjscauV_K_"
      },
      "outputs": [],
      "source": [
        "image_sz = 64\n",
        "fake_sz = 100\n",
        "lat_dimension = 64"
      ]
    },
    {
      "cell_type": "code",
      "execution_count": null,
      "metadata": {
        "id": "xRKCL-XrWAlP"
      },
      "outputs": [],
      "source": [
        "transform = transforms.Compose([transforms.Resize((image_sz,image_sz)),\n",
        "                                transforms.ToTensor(),\n",
        "                                transforms.Normalize((0.5,),(0.5,)),\n",
        "])\n",
        "data_root = '/content/drive/MyDrive/Colab Notebooks/report_file'"
      ]
    },
    {
      "cell_type": "code",
      "execution_count": null,
      "metadata": {
        "id": "gVJfJxthWDQ_"
      },
      "outputs": [],
      "source": [
        "# train_dataset = datasets.MNIST(\n",
        "#     root=\"./data\", train=True, transform=transform, download=True ,)\n",
        "\n",
        "train_dataset = datasets.ImageFolder(root = data_root, transform=transform)"
      ]
    },
    {
      "cell_type": "code",
      "execution_count": null,
      "metadata": {
        "id": "1ug2P1K9WEmd"
      },
      "outputs": [],
      "source": [
        "batch_size = 128\n",
        "\n",
        "train_loader = DataLoader(\n",
        "    train_dataset, batch_size=batch_size, shuffle=True)"
      ]
    },
    {
      "cell_type": "code",
      "source": [
        "train_loader"
      ],
      "metadata": {
        "colab": {
          "base_uri": "https://localhost:8080/"
        },
        "id": "D7ofemO-rL1T",
        "outputId": "781bb6d8-aa28-4702-e6d8-0f5e50efa0ec"
      },
      "execution_count": null,
      "outputs": [
        {
          "output_type": "execute_result",
          "data": {
            "text/plain": [
              "<torch.utils.data.dataloader.DataLoader at 0x7efefcb44be0>"
            ]
          },
          "metadata": {},
          "execution_count": 9
        }
      ]
    },
    {
      "cell_type": "code",
      "execution_count": null,
      "metadata": {
        "id": "CFnXcE36WHCP"
      },
      "outputs": [],
      "source": [
        "class Generator(nn.Module):\n",
        "    def __init__(self):\n",
        "        super(Generator, self).__init__()\n",
        "       # 생성자를 구성하는 층 정의\n",
        "        self.gen = nn.Sequential(\n",
        "            nn.ConvTranspose2d(fake_sz, 512, kernel_size=4),\n",
        "            nn.BatchNorm2d(512),\n",
        "            nn.ReLU(),\n",
        "\n",
        "            nn.ConvTranspose2d(512, 256, kernel_size=4, stride=2, padding=1),\n",
        "            nn.BatchNorm2d(256),\n",
        "            nn.ReLU(),\n",
        "\n",
        "            nn.ConvTranspose2d(256, 128, kernel_size=4, stride=2, padding=1),\n",
        "            nn.BatchNorm2d(128),\n",
        "            nn.ReLU(),\n",
        "\n",
        "            nn.ConvTranspose2d(128, 64, kernel_size=4, stride=2, padding=1),\n",
        "            nn.BatchNorm2d(64),\n",
        "            nn.ReLU(),\n",
        "\n",
        "            nn.ConvTranspose2d(64, 3, kernel_size=4, stride=2, padding=1),\n",
        "            nn.Tanh()\n",
        "        )\n",
        "    def forward(self, x):\n",
        "        return self.gen(x)"
      ]
    },
    {
      "cell_type": "code",
      "execution_count": null,
      "metadata": {
        "id": "XpZ4qm-NZwZV"
      },
      "outputs": [],
      "source": [
        "class Discriminator(nn.Module):\n",
        "    def __init__(self):\n",
        "        super(Discriminator, self).__init__()\n",
        "       # 판별자를 구성하는 층의 정의\n",
        "        self.disc = nn.Sequential(\n",
        "            nn.Conv2d(3, 64, kernel_size=4, stride=2, padding=1),\n",
        "            nn.BatchNorm2d(64),\n",
        "            nn.LeakyReLU(0.2),\n",
        "\n",
        "            nn.Conv2d(64, 128, kernel_size=4, stride=2, padding=1),\n",
        "            nn.BatchNorm2d(128),\n",
        "            nn.LeakyReLU(0.2),\n",
        "\n",
        "            nn.Conv2d(128, 256, kernel_size=4, stride=2, padding=1),\n",
        "            nn.BatchNorm2d(256),\n",
        "            nn.LeakyReLU(0.2),\n",
        "\n",
        "            nn.Conv2d(256, 512, kernel_size=4, stride=2, padding=1),\n",
        "            nn.BatchNorm2d(512),\n",
        "            nn.LeakyReLU(0.2),\n",
        "\n",
        "            nn.Conv2d(512, 3, kernel_size=4),\n",
        "            nn.Sigmoid()\n",
        "        )\n",
        "    def forward(self, x):\n",
        "        return self.disc(x)"
      ]
    },
    {
      "cell_type": "code",
      "execution_count": null,
      "metadata": {
        "id": "dEDg9sGLbV_K"
      },
      "outputs": [],
      "source": [
        "generator = Generator().to(device)\n",
        "discriminator = Discriminator().to(device)\n",
        "# print(generator)\n",
        "# print(discriminator)"
      ]
    },
    {
      "cell_type": "code",
      "execution_count": null,
      "metadata": {
        "id": "Og3jova7b0Bx"
      },
      "outputs": [],
      "source": [
        "optim_g = optim.Adam(generator.parameters(), lr=0.0001, betas=(0.5,0.999))\n",
        "optim_d = optim.Adam(discriminator.parameters(), lr=0.0001, betas=(0.5,0.999))"
      ]
    },
    {
      "cell_type": "code",
      "execution_count": null,
      "metadata": {
        "id": "-Cp1H_D4euks"
      },
      "outputs": [],
      "source": [
        "criterion = nn.BCELoss()\n",
        "\n",
        "losses_g = []\n",
        "losses_d = []"
      ]
    },
    {
      "cell_type": "code",
      "execution_count": null,
      "metadata": {
        "id": "npRvTaj9ezwO"
      },
      "outputs": [],
      "source": [
        "from torchvision.utils import save_image"
      ]
    },
    {
      "cell_type": "code",
      "source": [
        "for idx, data in enumerate(train_loader):\n",
        "  print('idx')\n",
        "  print(idx)\n",
        "  print('data')\n",
        "  print(data)\n",
        "  image,_ = data\n",
        "  print('image')\n",
        "  print(image)\n",
        "  b_size = image.shape # image.shape로 바꿔서 한번 해봐\n",
        "  print('b_size')\n",
        "  print(b_size)\n",
        "  break\n"
      ],
      "metadata": {
        "id": "MsCn30Oe5uYi"
      },
      "execution_count": null,
      "outputs": []
    },
    {
      "cell_type": "code",
      "source": [
        "c_size = image.shape[:2]\n",
        "print(c_size)"
      ],
      "metadata": {
        "colab": {
          "base_uri": "https://localhost:8080/"
        },
        "id": "mr-ZAFtrR6kg",
        "outputId": "6d6e8e0c-e769-4cab-bd69-ab271fefebc8"
      },
      "execution_count": null,
      "outputs": [
        {
          "output_type": "stream",
          "name": "stdout",
          "text": [
            "torch.Size([128, 3])\n"
          ]
        }
      ]
    },
    {
      "cell_type": "code",
      "execution_count": null,
      "metadata": {
        "id": "bRfCkRIUcuPg",
        "scrolled": false
      },
      "outputs": [],
      "source": [
        "epochs = 1000\n",
        "for epoch in range(epochs):\n",
        "    loss_g = 0.0\n",
        "    loss_d = 0.0\n",
        "    for idx, data in enumerate(train_loader):\n",
        "        optim_d.zero_grad()\n",
        "        image, _ = data\n",
        "        data_real = image.to(device)\n",
        "        b_size = data_real.shape[:2]\n",
        "        real_label = torch.ones(b_size).to(device)\n",
        "        fake_label = torch.zeros(b_size).to(device)\n",
        "\n",
        "        output_real = discriminator(data_real)\n",
        "        loss_real = criterion(torch.squeeze(output_real), real_label)\n",
        "\n",
        "        noise = torch.randn(b_size[0], fake_sz, 1, 1).to(device) # 노이즈 확인하셈\n",
        "        data_fake = generator(noise)\n",
        "        output_fake = discriminator(data_fake.detach())\n",
        "        loss_fake = criterion(torch.squeeze(output_fake), fake_label)\n",
        "\n",
        "        loss_total = (loss_real + loss_fake)/2\n",
        "        loss_total.backward()\n",
        "        optim_d.step()\n",
        "\n",
        "        optim_g.zero_grad()\n",
        "        output = discriminator(data_fake)\n",
        "        g_loss = criterion(torch.squeeze(output), real_label)\n",
        "        g_loss.backward()\n",
        "        optim_g.step()\n",
        "\n",
        "        loss_g += g_loss\n",
        "        loss_d += loss_total\n",
        "\n",
        "    epoch_loss_g = loss_g / idx\n",
        "    epoch_loss_d = loss_d / idx\n",
        "    losses_g.append(epoch_loss_g)\n",
        "    losses_d.append(epoch_loss_d)\n",
        "    print(f\"Epoch {epoch} of {epochs}\")\n",
        "    print(f\"Generator loss: {epoch_loss_g:.8f}, Discriminator loss: {epoch_loss_d:.8f}\")\n",
        "    save_image(data_fake[:25],\n",
        "              f'{epoch}.png',\n",
        "              nrow=5,\n",
        "              normalize=True)"
      ]
    },
    {
      "cell_type": "code",
      "execution_count": null,
      "metadata": {
        "id": "0pptE-vx08fO"
      },
      "outputs": [],
      "source": []
    }
  ],
  "metadata": {
    "accelerator": "GPU",
    "colab": {
      "provenance": [],
      "gpuType": "T4",
      "include_colab_link": true
    },
    "gpuClass": "standard",
    "kernelspec": {
      "display_name": "Python 3 (ipykernel)",
      "language": "python",
      "name": "python3"
    },
    "language_info": {
      "codemirror_mode": {
        "name": "ipython",
        "version": 3
      },
      "file_extension": ".py",
      "mimetype": "text/x-python",
      "name": "python",
      "nbconvert_exporter": "python",
      "pygments_lexer": "ipython3",
      "version": "3.9.13"
    }
  },
  "nbformat": 4,
  "nbformat_minor": 0
}