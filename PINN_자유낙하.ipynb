{
  "nbformat": 4,
  "nbformat_minor": 0,
  "metadata": {
    "colab": {
      "provenance": [],
      "gpuType": "T4",
      "authorship_tag": "ABX9TyOevy199Q+hsCQ0UyeHlq3C",
      "include_colab_link": true
    },
    "kernelspec": {
      "name": "python3",
      "display_name": "Python 3"
    },
    "language_info": {
      "name": "python"
    },
    "accelerator": "GPU",
    "gpuClass": "standard"
  },
  "cells": [
    {
      "cell_type": "markdown",
      "metadata": {
        "id": "view-in-github",
        "colab_type": "text"
      },
      "source": [
        "<a href=\"https://colab.research.google.com/github/KangTuna/Machine-learning-and-deep-learning-practices/blob/main/PINN_%EC%9E%90%EC%9C%A0%EB%82%99%ED%95%98.ipynb\" target=\"_parent\"><img src=\"https://colab.research.google.com/assets/colab-badge.svg\" alt=\"Open In Colab\"/></a>"
      ]
    },
    {
      "cell_type": "code",
      "execution_count": null,
      "metadata": {
        "id": "n_6vPPtqIz4T"
      },
      "outputs": [],
      "source": [
        "import math\n",
        "import torch\n",
        "import matplotlib.pyplot as plt\n",
        "import numpy as np\n",
        "import pandas as pd\n",
        "import torch.nn as nn\n",
        "import torch.optim as optim\n",
        "from torch import autograd"
      ]
    },
    {
      "cell_type": "code",
      "source": [
        "import torchvision\n",
        "import torchvision.transforms as transforms\n",
        "from torch.utils.data import Dataset, DataLoader\n",
        "import torchvision.datasets as datasets"
      ],
      "metadata": {
        "id": "WeHNOb57I34c"
      },
      "execution_count": null,
      "outputs": []
    },
    {
      "cell_type": "code",
      "source": [
        "# 디바이스 할당\n",
        "device = torch.device(\"cuda:0\" if torch.cuda.is_available() else \"cpu\")\n",
        "print(device)"
      ],
      "metadata": {
        "colab": {
          "base_uri": "https://localhost:8080/"
        },
        "id": "kXKN5-H7I42Z",
        "outputId": "2b9f82b9-9158-4e09-df8d-941cf5c144bc"
      },
      "execution_count": null,
      "outputs": [
        {
          "output_type": "stream",
          "name": "stdout",
          "text": [
            "cuda:0\n"
          ]
        }
      ]
    },
    {
      "cell_type": "code",
      "source": [
        "from google.colab import drive\n",
        "drive.mount('/content/drive')"
      ],
      "metadata": {
        "colab": {
          "base_uri": "https://localhost:8080/"
        },
        "id": "DDusgtYUJPC1",
        "outputId": "9e85d324-3ef0-424c-f4dc-89a0e0b1912e"
      },
      "execution_count": null,
      "outputs": [
        {
          "output_type": "stream",
          "name": "stdout",
          "text": [
            "Mounted at /content/drive\n"
          ]
        }
      ]
    },
    {
      "cell_type": "code",
      "source": [
        "data = pd.read_excel('/content/drive/MyDrive/Colab Notebooks/PINN/PINN_ex1.xlsx')"
      ],
      "metadata": {
        "id": "eCncR6jrJ4WG"
      },
      "execution_count": null,
      "outputs": []
    },
    {
      "cell_type": "code",
      "source": [
        "data"
      ],
      "metadata": {
        "id": "r6o19ZmAKMV8"
      },
      "execution_count": null,
      "outputs": []
    },
    {
      "cell_type": "code",
      "source": [
        "train_time = 40"
      ],
      "metadata": {
        "id": "SzhJ2JKFKMrK"
      },
      "execution_count": null,
      "outputs": []
    },
    {
      "cell_type": "code",
      "source": [
        "x_train = data.loc[:train_time,'time'].values\n",
        "y_train = data.loc[:train_time,'Height(m)'].values"
      ],
      "metadata": {
        "id": "Sdkl_QyzKTyQ"
      },
      "execution_count": null,
      "outputs": []
    },
    {
      "cell_type": "code",
      "source": [
        "x_test = data.loc[train_time+1:,'time'].values\n",
        "y_test = data.loc[train_time+1:,'Height(m)'].values"
      ],
      "metadata": {
        "id": "-WZ48XtkKgo3"
      },
      "execution_count": null,
      "outputs": []
    },
    {
      "cell_type": "code",
      "source": [
        "x_train = torch.Tensor(x_train).reshape(-1,1).to(device)\n",
        "y_train = torch.Tensor(y_train).reshape(-1,1).to(device)"
      ],
      "metadata": {
        "id": "c81sAOAkKk_2"
      },
      "execution_count": null,
      "outputs": []
    },
    {
      "cell_type": "code",
      "source": [
        "x_test = torch.Tensor(x_test).reshape(-1,1).to(device)\n",
        "y_test = torch.Tensor(y_test).reshape(-1,1).to(device)"
      ],
      "metadata": {
        "id": "BeH42iTQK3w-"
      },
      "execution_count": null,
      "outputs": []
    },
    {
      "cell_type": "code",
      "source": [
        "n_input = 1\n",
        "n_output = 1\n",
        "n_hidden = 50"
      ],
      "metadata": {
        "id": "6CN4g63TK93O"
      },
      "execution_count": null,
      "outputs": []
    },
    {
      "cell_type": "code",
      "source": [
        "class Net(nn.Module):\n",
        "  def __init__(self):\n",
        "    super(Net,self).__init__()\n",
        "\n",
        "    self.l1 = nn.Linear(n_input,n_hidden)\n",
        "    self.l2 = nn.Linear(n_hidden,n_hidden)\n",
        "    self.l3 = nn.Linear(n_hidden,n_hidden)\n",
        "    self.l4 = nn.Linear(n_hidden,n_output)\n",
        "\n",
        "    self.relu = nn.ReLU()\n",
        "\n",
        "  def forward(self,x):\n",
        "    x = self.l1(x)\n",
        "    x = self.relu(x)\n",
        "    x = self.l2(x)\n",
        "    x = self.relu(x)\n",
        "    x = self.l3(x)\n",
        "    x = self.relu(x)\n",
        "    x = self.l4(x)\n",
        "    return x"
      ],
      "metadata": {
        "id": "cLs8eAAXLZXd"
      },
      "execution_count": null,
      "outputs": []
    },
    {
      "cell_type": "code",
      "source": [
        "# 난수 고정\n",
        "torch.cuda.manual_seed(123)\n",
        "# 모델 인스턴스 생성\n",
        "model = Net()\n",
        "# 모델을 GPU로 전송\n",
        "model = model.to(device)\n",
        "# 학습률\n",
        "lr = 0.001\n",
        "# 최적화 알고리즘 : 경사 하강법\n",
        "optimizer = torch.optim.Adam(model.parameters(), lr=lr)"
      ],
      "metadata": {
        "id": "-qLxNnCHL-Hs"
      },
      "execution_count": null,
      "outputs": []
    },
    {
      "cell_type": "code",
      "source": [
        "loss_train_record = []\n",
        "loss_test_record = []\n",
        "for epoch in range(10000):\n",
        "  optimizer.zero_grad()\n",
        "\n",
        "  preds_train = model(x_train)\n",
        "  preds_test = model(x_test)\n",
        "\n",
        "  loss_train = nn.MSELoss()(preds_train,y_train)\n",
        "  loss_test = nn.MSELoss()(preds_test,y_test)\n",
        "\n",
        "  loss_train.backward()\n",
        "  optimizer.step()\n",
        "\n",
        "  loss_train_record.append(loss_train.item())\n",
        "  loss_test_record.append(loss_test.item())\n",
        "  if epoch % 1000 == 0:\n",
        "    print(f'epoch{epoch} loss:{loss_train.item()}, loss_valid:{loss_test.item()}')"
      ],
      "metadata": {
        "id": "DIu7P8u0MYYE"
      },
      "execution_count": null,
      "outputs": []
    },
    {
      "cell_type": "code",
      "source": [
        "def ODE(t):\n",
        "  return -9.8*t"
      ],
      "metadata": {
        "id": "s0eJY-mxNJr0"
      },
      "execution_count": null,
      "outputs": []
    },
    {
      "cell_type": "code",
      "source": [
        "x_H0 = torch.Tensor([0])\n",
        "y_H0 = torch.Tensor([1000])"
      ],
      "metadata": {
        "id": "NjULAzjCSZGf"
      },
      "execution_count": null,
      "outputs": []
    },
    {
      "cell_type": "code",
      "source": [
        "time_start = data.loc[0,'time']\n",
        "time_end = data.loc[len(data)-1,'time']"
      ],
      "metadata": {
        "id": "PpoOOXXdT5-S"
      },
      "execution_count": null,
      "outputs": []
    },
    {
      "cell_type": "code",
      "source": [
        "N_colloc = 1000\n",
        "\n",
        "X_colloc = torch.rand(N_colloc,1)*(time_end - time_start) + time_start"
      ],
      "metadata": {
        "id": "uekvE1PxUEho"
      },
      "execution_count": null,
      "outputs": []
    },
    {
      "cell_type": "code",
      "source": [
        "X_colloc = X_colloc.to(device)\n",
        "x_H0 = x_H0.to(device)\n",
        "y_H0 = y_H0.to(device)"
      ],
      "metadata": {
        "id": "6YKznXD2VNUk"
      },
      "execution_count": null,
      "outputs": []
    },
    {
      "cell_type": "code",
      "source": [
        "class PINN_test(nn.Module):\n",
        "  def __init__(self):\n",
        "    super().__init__()\n",
        "\n",
        "    self.l1 = nn.Linear(1,50)\n",
        "    self.l2 = nn.Linear(50,50)\n",
        "    self.l3 = nn.Linear(50,50)\n",
        "    self.l4 = nn.Linear(50,1)\n",
        "\n",
        "    self.tanh = nn.Tanh()\n",
        "\n",
        "  def forward(self,x):\n",
        "    x = self.l1(x)\n",
        "    x = self.tanh(x)\n",
        "    x = self.l2(x)\n",
        "    x = self.tanh(x)\n",
        "    x = self.l3(x)\n",
        "    x = self.tanh(x)\n",
        "    x = self.l4(x)\n",
        "    return x"
      ],
      "metadata": {
        "id": "rW9epW_WVWda"
      },
      "execution_count": null,
      "outputs": []
    },
    {
      "cell_type": "code",
      "source": [
        "torch.cuda.manual_seed(123)\n",
        "model_P = PINN_test()\n",
        "model_P = model_P.to(device)\n",
        "optimizer_P = torch.optim.Adam(model_P.parameters(),lr=lr)"
      ],
      "metadata": {
        "id": "AJX8tf4AVk7c"
      },
      "execution_count": null,
      "outputs": []
    },
    {
      "cell_type": "code",
      "source": [
        "loss_train_P = []\n",
        "loss_test_P = []\n",
        "steps = 50000\n",
        "for i in range(steps):\n",
        "  loss_BC = nn.MSELoss()(model_P.forward(x_H0),y_H0)\n",
        "  X_colloc.requires_grad = True\n",
        "  f = model_P.forward(X_colloc)\n",
        "  f_x = autograd.grad(f,X_colloc,torch.ones([X_colloc.shape[0],1]).to(device),\n",
        "                      retain_graph=True, create_graph = True)[0]\n",
        "  loss_ODE = nn.MSELoss()(f_x,ODE(X_colloc))\n",
        "  loss_Data = nn.MSELoss()(model_P.forward(x_train),y_train)\n",
        "  loss = loss_BC + loss_ODE + loss_Data\n",
        "\n",
        "  loss_test = nn.MSELoss()(model_P.forward(x_test),y_test)\n",
        "  optimizer_P.zero_grad()\n",
        "  loss.backward()\n",
        "  optimizer_P.step()\n",
        "\n",
        "  loss_train_P.append(loss.item())\n",
        "  loss_test_P.append(loss_test.item())\n",
        "  if i %(steps/10) == 0:\n",
        "    print(loss)"
      ],
      "metadata": {
        "colab": {
          "base_uri": "https://localhost:8080/"
        },
        "id": "EYzA8E7KV3X7",
        "outputId": "6c8123f6-f583-4ed5-d614-00c56cc0d2da"
      },
      "execution_count": null,
      "outputs": [
        {
          "output_type": "stream",
          "name": "stdout",
          "text": [
            "tensor(1813631.5000, device='cuda:0', grad_fn=<AddBackward0>)\n",
            "tensor(990631.1875, device='cuda:0', grad_fn=<AddBackward0>)\n",
            "tensor(446331.3750, device='cuda:0', grad_fn=<AddBackward0>)\n",
            "tensor(133948.5156, device='cuda:0', grad_fn=<AddBackward0>)\n",
            "tensor(11936.7266, device='cuda:0', grad_fn=<AddBackward0>)\n",
            "tensor(0.9642, device='cuda:0', grad_fn=<AddBackward0>)\n",
            "tensor(0.0006, device='cuda:0', grad_fn=<AddBackward0>)\n",
            "tensor(2.3930, device='cuda:0', grad_fn=<AddBackward0>)\n",
            "tensor(0.0131, device='cuda:0', grad_fn=<AddBackward0>)\n",
            "tensor(0.2253, device='cuda:0', grad_fn=<AddBackward0>)\n"
          ]
        }
      ]
    },
    {
      "cell_type": "code",
      "source": [
        "plt.plot(loss_train_P,'b',label = 'train_error')\n",
        "plt.plot(loss_test_P,'r',label = 'test_error')\n",
        "plt.legend()\n",
        "plt.show()"
      ],
      "metadata": {
        "colab": {
          "base_uri": "https://localhost:8080/",
          "height": 445
        },
        "id": "Jb1neo_uXKhp",
        "outputId": "9db38f3e-f84e-4bab-b3c0-2c60b2204c90"
      },
      "execution_count": null,
      "outputs": [
        {
          "output_type": "display_data",
          "data": {
            "text/plain": [
              "<Figure size 640x480 with 1 Axes>"
            ],
            "image/png": "[encoded data removed]"
          },
          "metadata": {}
        }
      ]
    },
    {
      "cell_type": "code",
      "source": [
        "plt.plot(data['time'],data['Height(m)'],'*',color='black',label='Real_data')\n",
        "plt.plot(x_train.cpu(),model_P(x_train).detach().cpu(),color = 'blue',label = 'Predicted_train')\n",
        "plt.plot(x_test.cpu(),model_P(x_test).detach().cpu(),color = 'red',label = 'Predicted_test')\n",
        "plt.legend(loc = 'upper right')"
      ],
      "metadata": {
        "colab": {
          "base_uri": "https://localhost:8080/",
          "height": 448
        },
        "id": "lT0QEBKVaBBX",
        "outputId": "454884ec-cfd7-4988-8c47-b89b70d65a72"
      },
      "execution_count": null,
      "outputs": [
        {
          "output_type": "execute_result",
          "data": {
            "text/plain": [
              "<matplotlib.legend.Legend at 0x7f6a094b4580>"
            ]
          },
          "metadata": {},
          "execution_count": 42
        },
        {
          "output_type": "display_data",
          "data": {
            "text/plain": [
              "<Figure size 640x480 with 1 Axes>"
            ],
            "image/png": "[encoded data removed]"
          },
          "metadata": {}
        }
      ]
    },
    {
      "cell_type": "code",
      "source": [],
      "metadata": {
        "id": "i51igoqRarar"
      },
      "execution_count": null,
      "outputs": []
    }
  ]
}