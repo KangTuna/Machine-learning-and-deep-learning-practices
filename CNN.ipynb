{
  "nbformat": 4,
  "nbformat_minor": 0,
  "metadata": {
    "colab": {
      "provenance": [],
      "authorship_tag": "ABX9TyOXRTHyVzO1GM7zkGNvc3ic"
    },
    "kernelspec": {
      "name": "python3",
      "display_name": "Python 3"
    },
    "language_info": {
      "name": "python"
    },
    "accelerator": "GPU",
    "gpuClass": "standard"
  },
  "cells": [
    {
      "cell_type": "code",
      "execution_count": null,
      "metadata": {
        "id": "vY2PLFEs2XO_"
      },
      "outputs": [],
      "source": [
        "import math\n",
        "import torch\n",
        "import matplotlib.pyplot as plt\n",
        "import numpy as np\n",
        "import pandas as pd\n",
        "import torch.nn as nn\n",
        "import torch.optim as optim"
      ]
    },
    {
      "cell_type": "code",
      "source": [
        "import torchvision\n",
        "import torchvision.transforms as transforms\n",
        "from torch.utils.data import Dataset, DataLoader"
      ],
      "metadata": {
        "id": "Qp9djgOG2ble"
      },
      "execution_count": null,
      "outputs": []
    },
    {
      "cell_type": "code",
      "source": [
        "# 디바이스 할당\n",
        "device = torch.device(\"cuda:0\" if torch.cuda.is_available() else \"cpu\")\n",
        "print(device)"
      ],
      "metadata": {
        "colab": {
          "base_uri": "https://localhost:8080/"
        },
        "id": "BQ519MhH2gWR",
        "outputId": "7044ff69-5919-491b-bae0-cd937b455afc"
      },
      "execution_count": null,
      "outputs": [
        {
          "output_type": "stream",
          "name": "stdout",
          "text": [
            "cuda:0\n"
          ]
        }
      ]
    },
    {
      "cell_type": "code",
      "source": [
        "# 라이브러리 임포트\n",
        "import torchvision.datasets as datasets\n",
        "trans_to_train = transforms.Compose([transforms.ToTensor(),\n",
        "                                     transforms.Normalize(0.5,0.5),\n",
        "                                     transforms.RandomHorizontalFlip(p=0.5),\n",
        "                                     transforms.RandomErasing(p=0.5, scale=(0.02,0.33), ratio=(0.5,2))])\n",
        "trans_to_test = transforms.Compose([transforms.ToTensor(),\n",
        "                                    transforms.Normalize(0.5,0.5)])\n",
        "# 이미지 뒤집기 좌우대칭\n",
        "# trans = transforms.Compose([transforms.ToTensor(),\n",
        "#                             transforms.RandomHorizontalFlip(p=0.5)])\n",
        "# 이미지 뒤집기 상하대칭\n",
        "# trans = transforms.Compose([transforms.ToTensor(),\n",
        "#                             transforms.RandomVerticalFlip(p=0.5)])\n",
        "# 이미지 삭제하기\n",
        "# trans = transforms.Compose([transforms.ToTensor(),\n",
        "#                             transforms.RandomErasing(p=0.5, scale=(0.02,0.33), ratio=(0.5,2))])\n",
        "# 이미지 잘라내기\n",
        "# trans = transforms.Compose([transforms.ToTensor(),\n",
        "#                             transforms.RandomResizedCrop((32,32), scale = (0.1,1), ratio = (0.5,2))])\n",
        "# 이미지 밝기 대비 채도 색조 변경하기\n",
        "# trans = transforms.Compose([transforms.ToTensor(),\n",
        "#                             transforms.ColorJitter(brightness=0.5,contrast=0.5,saturation=0.5, hue=0.5)])\n",
        "                            \n",
        "\n",
        "data_root = './data'\n",
        "train_set = datasets.CIFAR10(\n",
        "    root = data_root, train = True,\n",
        "    download=True, transform = trans_to_train)\n",
        "\n",
        "test_set = datasets.CIFAR10(\n",
        "    root = data_root, train = False,\n",
        "    download=True, transform = trans_to_test)"
      ],
      "metadata": {
        "colab": {
          "base_uri": "https://localhost:8080/"
        },
        "id": "00ZnWjaN2lY_",
        "outputId": "b8300577-141a-4a93-b442-34fb6786833e"
      },
      "execution_count": null,
      "outputs": [
        {
          "output_type": "stream",
          "name": "stdout",
          "text": [
            "Files already downloaded and verified\n",
            "Files already downloaded and verified\n"
          ]
        }
      ]
    },
    {
      "cell_type": "code",
      "source": [
        "batch_size = 100\n",
        "\n",
        "train_loader = DataLoader(\n",
        "    train_set, batch_size= batch_size,\n",
        "    shuffle = True\n",
        ")\n",
        "\n",
        "test_loader = DataLoader(\n",
        "    test_set, batch_size= batch_size,\n",
        "    shuffle = False\n",
        ")"
      ],
      "metadata": {
        "id": "CiLpONRi2o52"
      },
      "execution_count": null,
      "outputs": []
    },
    {
      "cell_type": "code",
      "source": [
        "classes = train_set.classes"
      ],
      "metadata": {
        "id": "lQ79Q2He3GSc"
      },
      "execution_count": null,
      "outputs": []
    },
    {
      "cell_type": "code",
      "source": [
        "plt.figure(figsize=(10, 3))\n",
        "for i in range(20):\n",
        "    ax = plt.subplot(2, 10, i + 1)\n",
        "    \n",
        "    # image와 label 취득\n",
        "    image, label = train_set[i]\n",
        "    \n",
        "    # 이미지 출력\n",
        "    plt.imshow(np.transpose(image,(1,2,0)))\n",
        "    ax.set_title(f'{classes[label]}')\n",
        "    ax.get_xaxis().set_visible(False)\n",
        "    ax.get_yaxis().set_visible(False)\n",
        "plt.show()"
      ],
      "metadata": {
        "id": "51b0L9Cn26eh"
      },
      "execution_count": null,
      "outputs": []
    },
    {
      "cell_type": "code",
      "source": [
        "class CNN1(nn.Module):\n",
        "    def __init__(self):\n",
        "        super(CNN1, self).__init__()\n",
        "        # 배치 정규화\n",
        "        self.bn1 = nn.BatchNorm2d(32)\n",
        "        self.bn2 = nn.BatchNorm2d(32)\n",
        "        self.bn3 = nn.BatchNorm2d(64)\n",
        "        self.bn4 = nn.BatchNorm2d(64)\n",
        "        self.bn5 = nn.BatchNorm2d(128)\n",
        "        self.bn6 = nn.BatchNorm2d(128)\n",
        "\n",
        "        self.layer1 = nn.Sequential(\n",
        "            nn.Conv2d(in_channels=3, out_channels=32, kernel_size=3, padding=1), # in_channels : 인풋값 , out_channels : 아웃풋값\n",
        "            self.bn1,\n",
        "            nn.ReLU(),\n",
        "            nn.Conv2d(in_channels=32, out_channels=32, kernel_size=3, padding=1),\n",
        "            self.bn2,\n",
        "            nn.ReLU(),\n",
        "            nn.MaxPool2d(kernel_size=2, stride=2),\n",
        "            nn.Dropout(0.2), # 과적합을 막기위한 Dropout, nn.Dropout(드랍비율)\n",
        "            nn.Conv2d(in_channels=32, out_channels=64, kernel_size=3, padding=1),\n",
        "            self.bn3,\n",
        "            nn.ReLU(),\n",
        "            nn.Conv2d(in_channels=64, out_channels=64, kernel_size=3, padding=1),\n",
        "            self.bn4,\n",
        "            nn.ReLU(),\n",
        "            nn.MaxPool2d(kernel_size=2, stride=2),\n",
        "            nn.Dropout(0.3),\n",
        "            nn.Conv2d(in_channels=64, out_channels=128, kernel_size=3, padding=1),\n",
        "            self.bn5,\n",
        "            nn.ReLU(),\n",
        "            nn.Conv2d(in_channels=128, out_channels=128, kernel_size=3, padding=1),\n",
        "            self.bn6,\n",
        "            nn.ReLU(),\n",
        "            nn.MaxPool2d(kernel_size=2, stride=2),\n",
        "            nn.Dropout(0.4)\n",
        "        )\n",
        "\n",
        "        self.l1 = nn.Linear(in_features=128*4*4,out_features=128)\n",
        "        self.l2 = nn.Linear(in_features=128,out_features=len(classes))\n",
        "\n",
        "        self.relu = nn.ReLU()\n",
        "        self.dropout1 = nn.Dropout(0.4)\n",
        "    def forward(self, x):\n",
        "        x = self.layer1(x)\n",
        "\n",
        "        x = x.view(x.size(0),-1)\n",
        "\n",
        "        x = self.l1(x)\n",
        "        x = self.relu(x)\n",
        "        x = self.dropout1(x)\n",
        "        x = self.l2(x)\n",
        "        return x"
      ],
      "metadata": {
        "id": "m_gwHtT_3AEQ"
      },
      "execution_count": null,
      "outputs": []
    },
    {
      "cell_type": "code",
      "source": [
        "# 난수 고정\n",
        "torch.cuda.manual_seed(123)\n",
        "\n",
        "model1 = CNN1()\n",
        "model1.to(device)\n",
        "lr = 1e-3\n",
        "optimizer = torch.optim.Adam(model1.parameters(), lr=lr)"
      ],
      "metadata": {
        "id": "c2lcud9v5F7G"
      },
      "execution_count": null,
      "outputs": []
    },
    {
      "cell_type": "code",
      "source": [
        "# 손실 함수： 교차 엔트로피 함수\n",
        "criterion = nn.CrossEntropyLoss()"
      ],
      "metadata": {
        "id": "lZ3O60Ms5GMA"
      },
      "execution_count": null,
      "outputs": []
    },
    {
      "cell_type": "code",
      "source": [
        "history_m1= np.zeros((0,5))"
      ],
      "metadata": {
        "id": "WL0Y7aWv5HWH"
      },
      "execution_count": null,
      "outputs": []
    },
    {
      "cell_type": "code",
      "source": [
        "num_epochs = 30\n",
        "# tqdm 라이브러리 임포트\n",
        "from tqdm.notebook import tqdm\n",
        "for epoch in range(num_epochs):\n",
        "  train_acc_m1, train_loss_m1 = 0, 0\n",
        "  test_acc_m1, test_loss_m1 = 0, 0\n",
        "  n_train, n_test = 0, 0\n",
        "\n",
        "  for images, labels in tqdm(train_loader):\n",
        "    n_train += len(labels)\n",
        "\n",
        "    inputs = images.to(device)\n",
        "    labels = labels.to(device)\n",
        "    optimizer.zero_grad()\n",
        "    outputs = model1(inputs)\n",
        "    loss_model1 = criterion(outputs, labels)\n",
        "    loss_model1.backward()\n",
        "    optimizer.step()\n",
        "    pred_m1 = outputs.max(axis=1)[1]\n",
        "    train_loss_m1 += loss_model1.item()\n",
        "    train_acc_m1 += (pred_m1 == labels).sum().item()\n",
        "  for images_test, labels_test in test_loader:\n",
        "    n_test += len(labels_test)\n",
        "\n",
        "    inputs_test = images_test.to(device)\n",
        "    labels_test = labels_test.to(device)\n",
        "\n",
        "    outputs_test = model1(inputs_test)\n",
        "\n",
        "    loss_test_model1 = criterion(outputs_test, labels_test)\n",
        "\n",
        "    pred_test_m1 = outputs_test.max(axis=1)[1]\n",
        "\n",
        "    test_loss_m1 +=  loss_test_model1.item()\n",
        "    test_acc_m1 +=  (pred_test_m1 == labels_test).sum().item()\n",
        "  \n",
        "  train_acc_m1 = train_acc_m1 / n_train\n",
        "  test_acc_m1 = test_acc_m1 / n_test\n",
        "  train_loss_m1 = train_loss_m1 / n_train\n",
        "  test_loss_m1 = test_loss_m1 / n_test\n",
        "  print(f'Epoch [{epoch+1}/{num_epochs}], loss: {train_loss_m1:.5f}, loss_test: {test_loss_m1:.5f}')\n",
        "  item = np.array([epoch+1 , train_loss_m1, train_acc_m1, test_loss_m1, test_acc_m1])\n",
        "  history_m1 = np.vstack((history_m1, item))"
      ],
      "metadata": {
        "id": "nVXeAFL_5IuN"
      },
      "execution_count": null,
      "outputs": []
    },
    {
      "cell_type": "code",
      "source": [
        "# 손실과 정확도 확인\n",
        "\n",
        "print(f'초기상태 : 손실 : {history_m1[0,3]:.5f}  정확도 : {history_m1[0,4]:.5f}' )\n",
        "print(f'최종상태 : 손실 : {history_m1[-1,3]:.5f}  정확도 : {history_m1[-1,4]:.5f}' )"
      ],
      "metadata": {
        "colab": {
          "base_uri": "https://localhost:8080/"
        },
        "id": "rEW79OcS5cY2",
        "outputId": "dcd7a648-ee95-4194-ab3b-80234ccbd369"
      },
      "execution_count": null,
      "outputs": [
        {
          "output_type": "stream",
          "name": "stdout",
          "text": [
            "초기상태 : 손실 : 0.01262  정확도 : 0.54020\n",
            "최종상태 : 손실 : 0.00573  정확도 : 0.81340\n"
          ]
        }
      ]
    },
    {
      "cell_type": "code",
      "source": [
        "# 학습 곡선 출력(손실)\n",
        "\n",
        "plt.plot(history_m1[:,0], history_m1[:,1], 'b', label='Train error')\n",
        "plt.plot(history_m1[:,0], history_m1[:,3], 'k', label='Test error')\n",
        "plt.xlabel('Epoch')\n",
        "plt.ylabel('loss')\n",
        "plt.legend()\n",
        "plt.show()"
      ],
      "metadata": {
        "colab": {
          "base_uri": "https://localhost:8080/",
          "height": 449
        },
        "id": "tp_x055C5d8Q",
        "outputId": "9912ba4e-fab7-4101-ce19-60f3f12a69ad"
      },
      "execution_count": null,
      "outputs": [
        {
          "output_type": "display_data",
          "data": {
            "text/plain": [
              "<Figure size 640x480 with 1 Axes>"
            ],
            "image/png": "[encoded data removed]"
          },
          "metadata": {}
        }
      ]
    },
    {
      "cell_type": "code",
      "source": [
        "# 학습 곡선 출력(정확도)\n",
        "\n",
        "plt.plot(history_m1[:,0], history_m1[:,2], 'b', label='Train Accuracy')\n",
        "plt.plot(history_m1[:,0], history_m1[:,4], 'k', label='Test Accuracy')\n",
        "plt.xlabel('Epoch')\n",
        "plt.ylabel('Accuracy')\n",
        "plt.legend()\n",
        "plt.show()"
      ],
      "metadata": {
        "colab": {
          "base_uri": "https://localhost:8080/",
          "height": 449
        },
        "id": "2ha4BD0m5fYp",
        "outputId": "b8785777-5b56-491e-d698-9f12d2a4c857"
      },
      "execution_count": null,
      "outputs": [
        {
          "output_type": "display_data",
          "data": {
            "text/plain": [
              "<Figure size 640x480 with 1 Axes>"
            ],
            "image/png": "[encoded data removed]"
          },
          "metadata": {}
        }
      ]
    },
    {
      "cell_type": "code",
      "source": [],
      "metadata": {
        "id": "BgO0yu9m_SMA"
      },
      "execution_count": null,
      "outputs": []
    }
  ]
}