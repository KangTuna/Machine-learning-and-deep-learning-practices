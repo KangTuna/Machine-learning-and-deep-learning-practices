{
  "cells": [
    {
      "cell_type": "markdown",
      "metadata": {
        "id": "view-in-github",
        "colab_type": "text"
      },
      "source": [
        "<a href=\"https://colab.research.google.com/github/KangTuna/Machine-learning-and-deep-learning-practices/blob/main/Pretrained.ipynb\" target=\"_parent\"><img src=\"https://colab.research.google.com/assets/colab-badge.svg\" alt=\"Open In Colab\"/></a>"
      ]
    },
    {
      "cell_type": "code",
      "execution_count": null,
      "metadata": {
        "id": "H8hlAcrrQ0OO"
      },
      "outputs": [],
      "source": [
        "import math\n",
        "import torch\n",
        "import matplotlib.pyplot as plt\n",
        "import numpy as np\n",
        "import pandas as pd\n",
        "import torch.nn as nn\n",
        "import torch.optim as optim"
      ]
    },
    {
      "cell_type": "code",
      "execution_count": null,
      "metadata": {
        "id": "n46ZU8fIRRX7"
      },
      "outputs": [],
      "source": [
        "import torchvision\n",
        "import torchvision.transforms as transforms\n",
        "from torch.utils.data import Dataset, DataLoader\n",
        "import torchvision.datasets as datasets"
      ]
    },
    {
      "cell_type": "code",
      "execution_count": null,
      "metadata": {
        "colab": {
          "base_uri": "https://localhost:8080/"
        },
        "id": "LF9aQrdVRRal",
        "outputId": "c9ec876d-b62b-4a47-e8e7-94017b85260c"
      },
      "outputs": [
        {
          "output_type": "stream",
          "name": "stdout",
          "text": [
            "cuda:0\n"
          ]
        }
      ],
      "source": [
        "# 디바이스 할당\n",
        "device = torch.device(\"cuda:0\" if torch.cuda.is_available() else \"cpu\")\n",
        "print(device)"
      ]
    },
    {
      "cell_type": "code",
      "execution_count": null,
      "metadata": {
        "id": "Ho5ABU1yRRc5"
      },
      "outputs": [],
      "source": [
        "# Transforms 정의\n",
        "\n",
        "# 학습 데이터용 : 정규화에 반전과 RandomErasing 추가\n",
        "transform_train = transforms.Compose([\n",
        "  transforms.Resize(112),\n",
        "  transforms.RandomHorizontalFlip(p=0.5),\n",
        "  transforms.ToTensor(),\n",
        "  transforms.Normalize(0.5, 0.5),\n",
        "  transforms.RandomErasing(p=0.5, scale=(0.02, 0.33), ratio=(0.3, 3.3))\n",
        "])\n",
        "\n",
        "# 검증 데이터용 : 정규화만 실시\n",
        "transform = transforms.Compose([\n",
        "  transforms.Resize(112),\n",
        "  transforms.ToTensor(),\n",
        "  transforms.Normalize(0.5, 0.5)\n",
        "])"
      ]
    },
    {
      "cell_type": "code",
      "execution_count": null,
      "metadata": {
        "colab": {
          "base_uri": "https://localhost:8080/"
        },
        "id": "t2jmtF8XSH2z",
        "outputId": "94201617-73ca-4747-f358-b9a9c7b54a48"
      },
      "outputs": [
        {
          "output_type": "stream",
          "name": "stdout",
          "text": [
            "Downloading https://www.cs.toronto.edu/~kriz/cifar-10-python.tar.gz to ./data/cifar-10-python.tar.gz\n"
          ]
        },
        {
          "output_type": "stream",
          "name": "stderr",
          "text": [
            "100%|██████████| 170498071/170498071 [00:02<00:00, 71921241.25it/s]\n"
          ]
        },
        {
          "output_type": "stream",
          "name": "stdout",
          "text": [
            "Extracting ./data/cifar-10-python.tar.gz to ./data\n",
            "Files already downloaded and verified\n"
          ]
        }
      ],
      "source": [
        "# 데이터 취득용 함수 dataset\n",
        "\n",
        "data_root = './data'\n",
        "\n",
        "train_set = datasets.CIFAR10(\n",
        "    root = data_root, train = True,\n",
        "    download = True, transform = transform_train)\n",
        "\n",
        "# 검증 데이터셋\n",
        "test_set = datasets.CIFAR10(\n",
        "    root = data_root, train = False,\n",
        "    download = True, transform = transform)"
      ]
    },
    {
      "cell_type": "code",
      "execution_count": null,
      "metadata": {
        "colab": {
          "base_uri": "https://localhost:8080/"
        },
        "id": "LfBn7HD7RRfT",
        "outputId": "3ebe79a6-b99d-43d5-f29e-addb1b06f619"
      },
      "outputs": [
        {
          "output_type": "execute_result",
          "data": {
            "text/plain": [
              "['airplane',\n",
              " 'automobile',\n",
              " 'bird',\n",
              " 'cat',\n",
              " 'deer',\n",
              " 'dog',\n",
              " 'frog',\n",
              " 'horse',\n",
              " 'ship',\n",
              " 'truck']"
            ]
          },
          "metadata": {},
          "execution_count": 6
        }
      ],
      "source": [
        "classes = train_set.classes\n",
        "classes"
      ]
    },
    {
      "cell_type": "code",
      "execution_count": null,
      "metadata": {
        "id": "COgxlRd0RRhv"
      },
      "outputs": [],
      "source": [
        "batch_size = 50\n",
        "\n",
        "train_loader = DataLoader(\n",
        "    train_set, batch_size= batch_size,\n",
        "    shuffle = True\n",
        ")\n",
        "\n",
        "test_loader = DataLoader(\n",
        "    test_set, batch_size= batch_size,\n",
        "    shuffle = False\n",
        ")"
      ]
    },
    {
      "cell_type": "code",
      "execution_count": null,
      "metadata": {
        "colab": {
          "base_uri": "https://localhost:8080/"
        },
        "id": "ijeVqiPtRRkR",
        "outputId": "d651e350-9d79-47e1-e4fb-bc48769b4b33"
      },
      "outputs": [
        {
          "output_type": "stream",
          "name": "stderr",
          "text": [
            "/usr/local/lib/python3.10/dist-packages/torchvision/models/_utils.py:208: UserWarning: The parameter 'pretrained' is deprecated since 0.13 and may be removed in the future, please use 'weights' instead.\n",
            "  warnings.warn(\n",
            "/usr/local/lib/python3.10/dist-packages/torchvision/models/_utils.py:223: UserWarning: Arguments other than a weight enum or `None` for 'weights' are deprecated since 0.13 and may be removed in the future. The current behavior is equivalent to passing `weights=ResNet18_Weights.IMAGENET1K_V1`. You can also use `weights=ResNet18_Weights.DEFAULT` to get the most up-to-date weights.\n",
            "  warnings.warn(msg)\n",
            "Downloading: \"https://download.pytorch.org/models/resnet18-f37072fd.pth\" to /root/.cache/torch/hub/checkpoints/resnet18-f37072fd.pth\n",
            "100%|██████████| 44.7M/44.7M [00:00<00:00, 117MB/s]\n"
          ]
        }
      ],
      "source": [
        "#  라이브러리 임포트\n",
        "from torchvision import models\n",
        "\n",
        "# 사전 학습 모델 불러오기\n",
        "# pretraind = True로 학습을 마친 파라미터를 동시에 불러오기\n",
        "net = models.resnet18(pretrained = True)"
      ]
    },
    {
      "cell_type": "code",
      "execution_count": null,
      "metadata": {
        "id": "9GXsFSVGRRml"
      },
      "outputs": [],
      "source": [
        "# 모델 개요 표시 1\n",
        "\n",
        "print(net)"
      ]
    },
    {
      "cell_type": "code",
      "execution_count": null,
      "metadata": {
        "colab": {
          "base_uri": "https://localhost:8080/"
        },
        "id": "ksrCFblciRnY",
        "outputId": "90f4b073-e85a-47f2-d7dd-500bf4c43e95"
      },
      "outputs": [
        {
          "output_type": "stream",
          "name": "stdout",
          "text": [
            "Successfully installed torchinfo-1.8.0\n"
          ]
        }
      ],
      "source": [
        "!pip install torchinfo | tail -n 1"
      ]
    },
    {
      "cell_type": "code",
      "execution_count": null,
      "metadata": {
        "id": "m1CkWk9pRRpK"
      },
      "outputs": [],
      "source": [
        "from torchinfo import summary\n",
        "# 모델 개요 표시 2\n",
        "net = net.to(device)\n",
        "summary(net,(100,3,112,112))"
      ]
    },
    {
      "cell_type": "code",
      "execution_count": null,
      "metadata": {
        "colab": {
          "base_uri": "https://localhost:8080/"
        },
        "id": "F8Y9jBlvRRre",
        "outputId": "5f5a29f5-1c7f-474f-abb9-bf49d6d5d555"
      },
      "outputs": [
        {
          "output_type": "stream",
          "name": "stdout",
          "text": [
            "Linear(in_features=512, out_features=1000, bias=True)\n",
            "512\n"
          ]
        }
      ],
      "source": [
        "print(net.fc)\n",
        "print(net.fc.in_features)"
      ]
    },
    {
      "cell_type": "code",
      "execution_count": null,
      "metadata": {
        "id": "r5PkNSh9RRuH"
      },
      "outputs": [],
      "source": [
        "n_output = len(classes)\n",
        "# 난수 고정\n",
        "torch.manual_seed(123)\n",
        "torch.cuda.manual_seed(123)\n",
        "\n",
        "# 최종 레이어 함수의 입력 차원수 확인\n",
        "fc_in_features = net.fc.in_features\n",
        "\n",
        "# 최종 레이어 함수 교체\n",
        "net.fc = nn.Linear(fc_in_features, n_output)"
      ]
    },
    {
      "cell_type": "code",
      "execution_count": null,
      "metadata": {
        "id": "c_cGX_FTSVsV"
      },
      "outputs": [],
      "source": [
        "# 모델 개요 표시 1\n",
        "print(net)"
      ]
    },
    {
      "cell_type": "code",
      "execution_count": null,
      "metadata": {
        "id": "DeYTRn1zSVvE"
      },
      "outputs": [],
      "source": [
        "# 모델 개요 표시 2\n",
        "\n",
        "net = net.to(device)\n",
        "summary(net,(100,3,224,224))"
      ]
    },
    {
      "cell_type": "code",
      "execution_count": null,
      "metadata": {
        "id": "bWfFBglzSVxo"
      },
      "outputs": [],
      "source": [
        "n_output = len(classes)\n",
        "# 난수 고정\n",
        "torch.manual_seed(123)\n",
        "torch.cuda.manual_seed(123)\n",
        "\n",
        "# 사전 학습 모델 불러오기\n",
        "# pretraind = True로 학습을 마친 파라미터도 함께 불러오기\n",
        "model1 = models.resnet18(pretrained = True)\n",
        "\n",
        "# 최종 레이어 함수 입력 차원수 확인\n",
        "fc_in_features = model1.fc.in_features\n",
        "\n",
        "# 최종 레이어 함수 교체\n",
        "model1.fc = nn.Linear(fc_in_features, n_output)\n",
        "\n",
        "# GPU 사용\n",
        "model1 = model1.to(device)\n",
        "\n",
        "# 학습률\n",
        "lr = 0.001\n",
        "\n",
        "# 손실 함수 정의\n",
        "criterion = nn.CrossEntropyLoss()\n",
        "\n",
        "# 최적화 함수 정의\n",
        "optimizer = torch.optim.Adam(model1.parameters(), lr=lr)\n",
        "\n",
        "# history 파일 초기화\n",
        "history_m1= np.zeros((0,5))"
      ]
    },
    {
      "cell_type": "code",
      "execution_count": null,
      "metadata": {
        "id": "ojky2Vq-SV0S"
      },
      "outputs": [],
      "source": [
        "num_epochs = 50\n",
        "# tqdm 라이브러리 임포트\n",
        "from tqdm.notebook import tqdm\n",
        "for epoch in range(num_epochs):\n",
        "  train_acc_m1, train_loss_m1 = 0, 0\n",
        "  test_acc_m1, test_loss_m1 = 0, 0\n",
        "  n_train, n_test = 0, 0\n",
        "\n",
        "  for images, labels in tqdm(train_loader):\n",
        "    n_train += len(labels)\n",
        "\n",
        "    inputs = images.to(device)\n",
        "    labels = labels.to(device)\n",
        "    optimizer.zero_grad()\n",
        "    outputs = model1(inputs)\n",
        "    loss_model1 = criterion(outputs, labels)\n",
        "    loss_model1.backward()\n",
        "    optimizer.step()\n",
        "    pred_m1 = outputs.max(axis=1)[1]\n",
        "    train_loss_m1 += loss_model1.item()\n",
        "    train_acc_m1 += (pred_m1 == labels).sum().item()\n",
        "  for images_test, labels_test in test_loader:\n",
        "    n_test += len(labels_test)\n",
        "\n",
        "    inputs_test = images_test.to(device)\n",
        "    labels_test = labels_test.to(device)\n",
        "\n",
        "    outputs_test = model1(inputs_test)\n",
        "\n",
        "    loss_test_model1 = criterion(outputs_test, labels_test)\n",
        "\n",
        "    pred_test_m1 = outputs_test.max(axis=1)[1]\n",
        "\n",
        "    test_loss_m1 +=  loss_test_model1.item()\n",
        "    test_acc_m1 +=  (pred_test_m1 == labels_test).sum().item()\n",
        "\n",
        "  train_acc_m1 = train_acc_m1 / n_train\n",
        "  test_acc_m1 = test_acc_m1 / n_test\n",
        "  train_loss_m1 = train_loss_m1 / n_train\n",
        "  test_loss_m1 = test_loss_m1 / n_test\n",
        "  print(f'Epoch [{epoch+1}/{num_epochs}], loss: {train_loss_m1:.5f}, loss_test: {test_loss_m1:.5f}')\n",
        "  item = np.array([epoch+1 , train_loss_m1, train_acc_m1, test_loss_m1, test_acc_m1])\n",
        "  history_m1 = np.vstack((history_m1, item))"
      ]
    },
    {
      "cell_type": "code",
      "execution_count": null,
      "metadata": {
        "colab": {
          "base_uri": "https://localhost:8080/"
        },
        "id": "aO_VdtfhSV2u",
        "outputId": "84f07423-b9d0-46b7-e787-974f846e9832"
      },
      "outputs": [
        {
          "name": "stdout",
          "output_type": "stream",
          "text": [
            "초기상태 : 손실 : 0.00997  정확도 : 0.83190\n",
            "최종상태 : 손실 : 0.00666  정확도 : 0.88980\n"
          ]
        }
      ],
      "source": [
        "# 손실과 정확도 확인\n",
        "\n",
        "print(f'초기상태 : 손실 : {history_m1[0,3]:.5f}  정확도 : {history_m1[0,4]:.5f}' )\n",
        "print(f'최종상태 : 손실 : {history_m1[-1,3]:.5f}  정확도 : {history_m1[-1,4]:.5f}' )"
      ]
    },
    {
      "cell_type": "code",
      "execution_count": null,
      "metadata": {
        "colab": {
          "base_uri": "https://localhost:8080/",
          "height": 449
        },
        "id": "2DwiTxOkSV6P",
        "outputId": "81cf6ab6-9dc8-486e-c86f-88f2f2ae3453"
      },
      "outputs": [
        {
          "data": {
            "image/png": "[encoded data removed]",
            "text/plain": [
              "<Figure size 640x480 with 1 Axes>"
            ]
          },
          "metadata": {},
          "output_type": "display_data"
        }
      ],
      "source": [
        "# 학습 곡선 출력(손실)\n",
        "\n",
        "plt.plot(history_m1[:,0], history_m1[:,1], 'b', label='Train error')\n",
        "plt.plot(history_m1[:,0], history_m1[:,3], 'k', label='Test error')\n",
        "plt.xlabel('Epoch')\n",
        "plt.ylabel('loss')\n",
        "plt.legend()\n",
        "plt.show()"
      ]
    },
    {
      "cell_type": "code",
      "execution_count": null,
      "metadata": {
        "colab": {
          "base_uri": "https://localhost:8080/",
          "height": 449
        },
        "id": "mvPCOXanjPDb",
        "outputId": "dc6168b6-2d5b-4361-f668-3782ea355479"
      },
      "outputs": [
        {
          "data": {
            "image/png": "[encoded data removed]",
            "text/plain": [
              "<Figure size 640x480 with 1 Axes>"
            ]
          },
          "metadata": {},
          "output_type": "display_data"
        }
      ],
      "source": [
        "# 학습 곡선 출력(정확도)\n",
        "\n",
        "plt.plot(history_m1[:,0], history_m1[:,2], 'b', label='Train Accuracy')\n",
        "plt.plot(history_m1[:,0], history_m1[:,4], 'k', label='Test Accuracy')\n",
        "plt.xlabel('Epoch')\n",
        "plt.ylabel('Accuracy')\n",
        "plt.legend()\n",
        "plt.show()"
      ]
    },
    {
      "cell_type": "code",
      "execution_count": null,
      "metadata": {
        "id": "z8ow0nLtlrkT"
      },
      "outputs": [],
      "source": []
    }
  ],
  "metadata": {
    "accelerator": "GPU",
    "colab": {
      "provenance": [],
      "include_colab_link": true
    },
    "gpuClass": "standard",
    "kernelspec": {
      "display_name": "Python 3",
      "name": "python3"
    },
    "language_info": {
      "name": "python"
    }
  },
  "nbformat": 4,
  "nbformat_minor": 0
}