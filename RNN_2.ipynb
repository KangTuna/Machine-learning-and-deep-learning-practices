{
  "nbformat": 4,
  "nbformat_minor": 0,
  "metadata": {
    "colab": {
      "provenance": [],
      "gpuType": "T4",
      "authorship_tag": "ABX9TyOdfWsBCiR50h9FilfwInEB",
      "include_colab_link": true
    },
    "kernelspec": {
      "name": "python3",
      "display_name": "Python 3"
    },
    "language_info": {
      "name": "python"
    },
    "accelerator": "GPU"
  },
  "cells": [
    {
      "cell_type": "markdown",
      "metadata": {
        "id": "view-in-github",
        "colab_type": "text"
      },
      "source": [
        "<a href=\"https://colab.research.google.com/github/KangTuna/Machine-learning-and-deep-learning-practices/blob/main/RNN_2.ipynb\" target=\"_parent\"><img src=\"https://colab.research.google.com/assets/colab-badge.svg\" alt=\"Open In Colab\"/></a>"
      ]
    },
    {
      "cell_type": "code",
      "execution_count": null,
      "metadata": {
        "colab": {
          "base_uri": "https://localhost:8080/"
        },
        "id": "Me1J9NanTVX_",
        "outputId": "2325bfcd-6a5c-4886-a981-e5d21c591659"
      },
      "outputs": [
        {
          "output_type": "stream",
          "name": "stdout",
          "text": [
            "cuda:0\n"
          ]
        }
      ],
      "source": [
        "import math\n",
        "import torch\n",
        "import matplotlib.pyplot as plt\n",
        "import numpy as np\n",
        "import pandas as pd\n",
        "import torch.nn as nn\n",
        "import torch.optim as optim\n",
        "import torchvision\n",
        "import torchvision.transforms as transforms\n",
        "from torch.utils.data import Dataset, DataLoader\n",
        "# 디바이스 할당\n",
        "device = torch.device(\"cuda:0\" if torch.cuda.is_available() else \"cpu\")\n",
        "print(device)"
      ]
    },
    {
      "cell_type": "code",
      "source": [
        "from google.colab import drive\n",
        "drive.mount('/content/drive')"
      ],
      "metadata": {
        "colab": {
          "base_uri": "https://localhost:8080/"
        },
        "id": "AiLAuPZ_ThrD",
        "outputId": "53d4cd81-97a3-4b9e-f9ea-aa3dbc70e22b"
      },
      "execution_count": null,
      "outputs": [
        {
          "output_type": "stream",
          "name": "stdout",
          "text": [
            "Mounted at /content/drive\n"
          ]
        }
      ]
    },
    {
      "cell_type": "code",
      "source": [
        "data = pd.read_excel('/content/drive/MyDrive/Colab Notebooks/RNN/Early_detection_data.xlsx')"
      ],
      "metadata": {
        "id": "pgFReiJMTnj5"
      },
      "execution_count": null,
      "outputs": []
    },
    {
      "cell_type": "code",
      "source": [
        "first_line = 0.2\n",
        "second_line = 0.1\n",
        "slop_line = 1.5"
      ],
      "metadata": {
        "id": "gUf51SRyTvfE"
      },
      "execution_count": null,
      "outputs": []
    },
    {
      "cell_type": "code",
      "source": [
        "# Label 정의\n",
        "for i in range(2,len(data)):\n",
        "  if data.loc[i-2,'Rate'] == 0:\n",
        "    temp_slop = 15*data.loc[i,'Rate']\n",
        "  else:\n",
        "    temp_slop = data.loc[i,'Rate']/data.loc[i-2,'Rate']\n",
        "\n",
        "  if data.loc[i-2,'Rate'].mean()>first_line:\n",
        "    data.loc[i,'label'] = 1\n",
        "  elif data.loc[i,'Rate']>second_line and temp_slop>slop_line:\n",
        "    data.loc[i,'label'] = 1\n",
        "  else:\n",
        "    data.loc[i,'label'] = 0"
      ],
      "metadata": {
        "id": "vsnLgi2AT1zL"
      },
      "execution_count": null,
      "outputs": []
    },
    {
      "cell_type": "code",
      "source": [
        "features = ['Week','Average temperature', 'Minimum temperature','Maximum temperature',\n",
        "            'Rainfall','Minimum humidity','Relative humidity','Day length',\n",
        "            'Duration of sunshine','Soil temperature at 3m','Soil temperature at 5m']"
      ],
      "metadata": {
        "id": "Vvb2JQXJWPO2"
      },
      "execution_count": null,
      "outputs": []
    },
    {
      "cell_type": "code",
      "source": [
        "start_year = 2009\n",
        "pred_year = 2015\n",
        "window_size = 3"
      ],
      "metadata": {
        "id": "N1G7pCkcWu9Q"
      },
      "execution_count": null,
      "outputs": []
    },
    {
      "cell_type": "code",
      "source": [
        "train = data[:53*(pred_year - start_year)]\n",
        "test = data[53*(pred_year - start_year) - window_size:]"
      ],
      "metadata": {
        "id": "hWsNX1AIWzbh"
      },
      "execution_count": null,
      "outputs": []
    },
    {
      "cell_type": "code",
      "source": [
        "train_x = train.loc[:,features]\n",
        "train_label = train[['label']]"
      ],
      "metadata": {
        "id": "9M2KhQZCXHw2"
      },
      "execution_count": null,
      "outputs": []
    },
    {
      "cell_type": "code",
      "source": [
        "test_x = test.loc[:,features]\n",
        "test_label = test[['label']]"
      ],
      "metadata": {
        "id": "hn30ov9AXPVb"
      },
      "execution_count": null,
      "outputs": []
    },
    {
      "cell_type": "code",
      "source": [
        "X_max = train_x.max()\n",
        "X_min = train_x.min()\n",
        "X_max_test = test_x.max()\n",
        "X_min_test = test_x.min()"
      ],
      "metadata": {
        "id": "rTeyxQ3hXWfS"
      },
      "execution_count": null,
      "outputs": []
    },
    {
      "cell_type": "code",
      "source": [
        "train_x = (train_x - X_min) / (X_max - X_min)\n",
        "test_x = (test_x - X_min_test) / (X_max_test - X_min_test)"
      ],
      "metadata": {
        "id": "UNL7orl5XhXb"
      },
      "execution_count": null,
      "outputs": []
    },
    {
      "cell_type": "code",
      "source": [
        "def make_dataset(x_data, label, window_size):\n",
        "  x_list = []\n",
        "  label_list = []\n",
        "  for i in range(len(x_data) - window_size):\n",
        "    x_list.append(np.array(x_data.iloc[i:i+window_size]))\n",
        "    label_list.append(np.array(label.iloc[i+window_size]))\n",
        "  x_list = torch.Tensor(np.array(x_list))\n",
        "  label_list = torch.Tensor(np.array(label_list)).view(-1,1)\n",
        "  return x_list, label_list"
      ],
      "metadata": {
        "id": "JgJ8IBdAXtmY"
      },
      "execution_count": null,
      "outputs": []
    },
    {
      "cell_type": "code",
      "source": [
        "x_data,label_data = make_dataset(train_x, train_label,window_size)\n",
        "x_test,label_test = make_dataset(test_x, test_label,window_size)"
      ],
      "metadata": {
        "id": "dSOgl0cNYsJF"
      },
      "execution_count": null,
      "outputs": []
    },
    {
      "cell_type": "code",
      "source": [
        "from sklearn.preprocessing import OneHotEncoder"
      ],
      "metadata": {
        "id": "FEQdCogXY4hA"
      },
      "execution_count": null,
      "outputs": []
    },
    {
      "cell_type": "code",
      "source": [
        "encoder = OneHotEncoder()"
      ],
      "metadata": {
        "id": "0acs6bL2Y-Y-"
      },
      "execution_count": null,
      "outputs": []
    },
    {
      "cell_type": "code",
      "source": [
        "one_hot_encoded_train = encoder.fit_transform(label_data)\n",
        "one_hot_encoded_test = encoder.fit_transform(label_test)"
      ],
      "metadata": {
        "id": "OG7qMD8pZAfk"
      },
      "execution_count": null,
      "outputs": []
    },
    {
      "cell_type": "code",
      "source": [
        "label_data = torch.Tensor(one_hot_encoded_train.toarray())\n",
        "label_test = torch.Tensor(one_hot_encoded_test.toarray())"
      ],
      "metadata": {
        "id": "xWm2dBcpZKFJ"
      },
      "execution_count": null,
      "outputs": []
    },
    {
      "cell_type": "code",
      "source": [
        "x_data = x_data.to(device)\n",
        "label_data = label_data.to(device)\n",
        "\n",
        "x_test = x_test.to(device)\n",
        "label_test = label_test.to(device)"
      ],
      "metadata": {
        "id": "STApmqkhZVKo"
      },
      "execution_count": null,
      "outputs": []
    },
    {
      "cell_type": "code",
      "source": [
        "from torch.utils.data import TensorDataset"
      ],
      "metadata": {
        "id": "QgaiwXftZjAm"
      },
      "execution_count": null,
      "outputs": []
    },
    {
      "cell_type": "code",
      "source": [
        "train_dataset = TensorDataset(x_data,label_data)"
      ],
      "metadata": {
        "id": "JvZd4r9fZohR"
      },
      "execution_count": null,
      "outputs": []
    },
    {
      "cell_type": "code",
      "source": [
        "batch_size = 30"
      ],
      "metadata": {
        "id": "rvTN1Z54ZsoQ"
      },
      "execution_count": null,
      "outputs": []
    },
    {
      "cell_type": "code",
      "source": [
        "train_loader = DataLoader(train_dataset, batch_size = batch_size)"
      ],
      "metadata": {
        "id": "JeGkuJh8Zuk_"
      },
      "execution_count": null,
      "outputs": []
    },
    {
      "cell_type": "code",
      "source": [
        "hidden_size = 5"
      ],
      "metadata": {
        "id": "x7vpWazlZynW"
      },
      "execution_count": null,
      "outputs": []
    },
    {
      "cell_type": "code",
      "source": [
        "class RNN(nn.Module):\n",
        "  def __init__(self):\n",
        "    super(RNN, self).__init__()\n",
        "\n",
        "    self.rnn = nn.RNN(input_size = len(features), hidden_size = hidden_size, num_layers = 5,\n",
        "                      batch_first = True)\n",
        "    \n",
        "    self.fc1 = nn.Linear(in_features = window_size*hidden_size, out_features = 10)\n",
        "    self.fc2 = nn.Linear(in_features = 10, out_features = 2)\n",
        "\n",
        "    self.relu = nn.ReLU()\n",
        "\n",
        "  def forward(self,x,h0):\n",
        "    x, hn = self.rnn(x,h0)\n",
        "\n",
        "    x = x.reshape(x.size(0),-1)\n",
        "\n",
        "    x = self.fc1(x)\n",
        "    x = self.relu(x)\n",
        "    x = self.fc2(x)\n",
        "\n",
        "    #x = x.reshape(-1)\n",
        "\n",
        "    return x\n"
      ],
      "metadata": {
        "id": "7yYaJXD3Z0rz"
      },
      "execution_count": null,
      "outputs": []
    },
    {
      "cell_type": "code",
      "source": [
        "#난수 고정\n",
        "torch.cuda.manual_seed(123)\n",
        "\n",
        "model = RNN()\n",
        "model.to(device)\n",
        "lr = 0.0002\n",
        "optimizer = torch.optim.Adam(model.parameters(), lr=lr)\n",
        "\n",
        "# 손실 함수 : 교차 엔트로피 함수\n",
        "criterion = nn.CrossEntropyLoss()\n",
        "\n",
        "loss_train_record = []\n",
        "loss_test_record = []"
      ],
      "metadata": {
        "id": "qHtzyWCpaJ_b"
      },
      "execution_count": null,
      "outputs": []
    },
    {
      "cell_type": "code",
      "source": [
        "num_epochs= 500\n",
        "\n",
        "early_stopping_patience = 20\n",
        "epochs_without_imporvement = 0\n",
        "stop_training = False\n",
        "\n",
        "best_val_loss = float('inf')\n",
        "print(best_val_loss)\n",
        "for epoch in range(num_epochs):\n",
        "  if stop_training:\n",
        "    break\n",
        "  for data,label in train_loader:\n",
        "\n",
        "    inputs = data.to(device)\n",
        "    labels = label.to(device)\n",
        "    optimizer.zero_grad()\n",
        "    h0 = torch.zeros(5, inputs.shape[0], hidden_size).to(device)\n",
        "    outputs = model(inputs,h0)\n",
        "    loss_train = criterion(outputs, labels)\n",
        "\n",
        "    loss_train.backward()\n",
        "\n",
        "    optimizer.step()\n",
        "  loss_train_record.append(loss_train.item())\n",
        "\n",
        "  h_test = torch.zeros(5, x_test.shape[0], hidden_size).to(device)\n",
        "  outputs_test = model(x_test,h_test)\n",
        "  loss_test = criterion(outputs_test, label_test)\n",
        "  loss_test_record.append(loss_test.item())\n",
        "  # print(f'best_val_loss {best_val_loss} loss_test {loss_test}')\n",
        "  if loss_test < best_val_loss:\n",
        "    best_val_loss = loss_test\n",
        "    epochs_without_imporvement = 0\n",
        "  else:\n",
        "    epochs_without_imporvement += 1\n",
        "    if epochs_without_imporvement >= early_stopping_patience:\n",
        "      stop_training = True\n",
        "  \n",
        "  if epoch % 100 == 0:\n",
        "    print(f'epoch {epoch} loss : {loss_train.item()}')"
      ],
      "metadata": {
        "colab": {
          "base_uri": "https://localhost:8080/"
        },
        "id": "wZa49tPiad00",
        "outputId": "d1394b70-f943-44cc-e024-386193d5dc61"
      },
      "execution_count": null,
      "outputs": [
        {
          "output_type": "stream",
          "name": "stdout",
          "text": [
            "inf\n",
            "epoch 0 loss : 0.14793749153614044\n"
          ]
        }
      ]
    },
    {
      "cell_type": "code",
      "source": [
        "|"
      ],
      "metadata": {
        "id": "f5vaHbafcMef"
      },
      "execution_count": null,
      "outputs": []
    }
  ]
}