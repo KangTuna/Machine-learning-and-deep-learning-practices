{
  "nbformat": 4,
  "nbformat_minor": 0,
  "metadata": {
    "colab": {
      "provenance": [],
      "authorship_tag": "ABX9TyPvIirinyZescN7RM1LvpL0"
    },
    "kernelspec": {
      "name": "python3",
      "display_name": "Python 3"
    },
    "language_info": {
      "name": "python"
    },
    "accelerator": "GPU",
    "gpuClass": "standard",
    "widgets": {
      "application/vnd.jupyter.widget-state+json": {
        "15d9212c2d03484bab70653575869941": {
          "model_module": "@jupyter-widgets/controls",
          "model_name": "HBoxModel",
          "model_module_version": "1.5.0",
          "state": {
            "_dom_classes": [],
            "_model_module": "@jupyter-widgets/controls",
            "_model_module_version": "1.5.0",
            "_model_name": "HBoxModel",
            "_view_count": null,
            "_view_module": "@jupyter-widgets/controls",
            "_view_module_version": "1.5.0",
            "_view_name": "HBoxView",
            "box_style": "",
            "children": [
              "IPY_MODEL_f89bd11e6172406395d54080871443cb",
              "IPY_MODEL_25e1b516c9444fdcb599a57f7404df72",
              "IPY_MODEL_719bc10e8e4b48e9b9b66355b2e79b84"
            ],
            "layout": "IPY_MODEL_445bac882d534301927ddd0c976f3fb2"
          }
        },
        "f89bd11e6172406395d54080871443cb": {
          "model_module": "@jupyter-widgets/controls",
          "model_name": "HTMLModel",
          "model_module_version": "1.5.0",
          "state": {
            "_dom_classes": [],
            "_model_module": "@jupyter-widgets/controls",
            "_model_module_version": "1.5.0",
            "_model_name": "HTMLModel",
            "_view_count": null,
            "_view_module": "@jupyter-widgets/controls",
            "_view_module_version": "1.5.0",
            "_view_name": "HTMLView",
            "description": "",
            "description_tooltip": null,
            "layout": "IPY_MODEL_79cc0860de5644d28f98acce8a0404ca",
            "placeholder": "​",
            "style": "IPY_MODEL_4e6286ee77a34e09b20a8bd7a9dd7fa6",
            "value": "  0%"
          }
        },
        "25e1b516c9444fdcb599a57f7404df72": {
          "model_module": "@jupyter-widgets/controls",
          "model_name": "FloatProgressModel",
          "model_module_version": "1.5.0",
          "state": {
            "_dom_classes": [],
            "_model_module": "@jupyter-widgets/controls",
            "_model_module_version": "1.5.0",
            "_model_name": "FloatProgressModel",
            "_view_count": null,
            "_view_module": "@jupyter-widgets/controls",
            "_view_module_version": "1.5.0",
            "_view_name": "ProgressView",
            "bar_style": "danger",
            "description": "",
            "description_tooltip": null,
            "layout": "IPY_MODEL_1b14ffba04f5478ab0411cfdb9ec461c",
            "max": 120,
            "min": 0,
            "orientation": "horizontal",
            "style": "IPY_MODEL_d233090d95eb49e89fb5beaf4246df45",
            "value": 0
          }
        },
        "719bc10e8e4b48e9b9b66355b2e79b84": {
          "model_module": "@jupyter-widgets/controls",
          "model_name": "HTMLModel",
          "model_module_version": "1.5.0",
          "state": {
            "_dom_classes": [],
            "_model_module": "@jupyter-widgets/controls",
            "_model_module_version": "1.5.0",
            "_model_name": "HTMLModel",
            "_view_count": null,
            "_view_module": "@jupyter-widgets/controls",
            "_view_module_version": "1.5.0",
            "_view_name": "HTMLView",
            "description": "",
            "description_tooltip": null,
            "layout": "IPY_MODEL_d962ae62cfc74de48d3a269b04e20b59",
            "placeholder": "​",
            "style": "IPY_MODEL_f069522c3a144b5385349b32fe3510ef",
            "value": " 0/120 [00:00&lt;?, ?it/s]"
          }
        },
        "445bac882d534301927ddd0c976f3fb2": {
          "model_module": "@jupyter-widgets/base",
          "model_name": "LayoutModel",
          "model_module_version": "1.2.0",
          "state": {
            "_model_module": "@jupyter-widgets/base",
            "_model_module_version": "1.2.0",
            "_model_name": "LayoutModel",
            "_view_count": null,
            "_view_module": "@jupyter-widgets/base",
            "_view_module_version": "1.2.0",
            "_view_name": "LayoutView",
            "align_content": null,
            "align_items": null,
            "align_self": null,
            "border": null,
            "bottom": null,
            "display": null,
            "flex": null,
            "flex_flow": null,
            "grid_area": null,
            "grid_auto_columns": null,
            "grid_auto_flow": null,
            "grid_auto_rows": null,
            "grid_column": null,
            "grid_gap": null,
            "grid_row": null,
            "grid_template_areas": null,
            "grid_template_columns": null,
            "grid_template_rows": null,
            "height": null,
            "justify_content": null,
            "justify_items": null,
            "left": null,
            "margin": null,
            "max_height": null,
            "max_width": null,
            "min_height": null,
            "min_width": null,
            "object_fit": null,
            "object_position": null,
            "order": null,
            "overflow": null,
            "overflow_x": null,
            "overflow_y": null,
            "padding": null,
            "right": null,
            "top": null,
            "visibility": null,
            "width": null
          }
        },
        "79cc0860de5644d28f98acce8a0404ca": {
          "model_module": "@jupyter-widgets/base",
          "model_name": "LayoutModel",
          "model_module_version": "1.2.0",
          "state": {
            "_model_module": "@jupyter-widgets/base",
            "_model_module_version": "1.2.0",
            "_model_name": "LayoutModel",
            "_view_count": null,
            "_view_module": "@jupyter-widgets/base",
            "_view_module_version": "1.2.0",
            "_view_name": "LayoutView",
            "align_content": null,
            "align_items": null,
            "align_self": null,
            "border": null,
            "bottom": null,
            "display": null,
            "flex": null,
            "flex_flow": null,
            "grid_area": null,
            "grid_auto_columns": null,
            "grid_auto_flow": null,
            "grid_auto_rows": null,
            "grid_column": null,
            "grid_gap": null,
            "grid_row": null,
            "grid_template_areas": null,
            "grid_template_columns": null,
            "grid_template_rows": null,
            "height": null,
            "justify_content": null,
            "justify_items": null,
            "left": null,
            "margin": null,
            "max_height": null,
            "max_width": null,
            "min_height": null,
            "min_width": null,
            "object_fit": null,
            "object_position": null,
            "order": null,
            "overflow": null,
            "overflow_x": null,
            "overflow_y": null,
            "padding": null,
            "right": null,
            "top": null,
            "visibility": null,
            "width": null
          }
        },
        "4e6286ee77a34e09b20a8bd7a9dd7fa6": {
          "model_module": "@jupyter-widgets/controls",
          "model_name": "DescriptionStyleModel",
          "model_module_version": "1.5.0",
          "state": {
            "_model_module": "@jupyter-widgets/controls",
            "_model_module_version": "1.5.0",
            "_model_name": "DescriptionStyleModel",
            "_view_count": null,
            "_view_module": "@jupyter-widgets/base",
            "_view_module_version": "1.2.0",
            "_view_name": "StyleView",
            "description_width": ""
          }
        },
        "1b14ffba04f5478ab0411cfdb9ec461c": {
          "model_module": "@jupyter-widgets/base",
          "model_name": "LayoutModel",
          "model_module_version": "1.2.0",
          "state": {
            "_model_module": "@jupyter-widgets/base",
            "_model_module_version": "1.2.0",
            "_model_name": "LayoutModel",
            "_view_count": null,
            "_view_module": "@jupyter-widgets/base",
            "_view_module_version": "1.2.0",
            "_view_name": "LayoutView",
            "align_content": null,
            "align_items": null,
            "align_self": null,
            "border": null,
            "bottom": null,
            "display": null,
            "flex": null,
            "flex_flow": null,
            "grid_area": null,
            "grid_auto_columns": null,
            "grid_auto_flow": null,
            "grid_auto_rows": null,
            "grid_column": null,
            "grid_gap": null,
            "grid_row": null,
            "grid_template_areas": null,
            "grid_template_columns": null,
            "grid_template_rows": null,
            "height": null,
            "justify_content": null,
            "justify_items": null,
            "left": null,
            "margin": null,
            "max_height": null,
            "max_width": null,
            "min_height": null,
            "min_width": null,
            "object_fit": null,
            "object_position": null,
            "order": null,
            "overflow": null,
            "overflow_x": null,
            "overflow_y": null,
            "padding": null,
            "right": null,
            "top": null,
            "visibility": null,
            "width": null
          }
        },
        "d233090d95eb49e89fb5beaf4246df45": {
          "model_module": "@jupyter-widgets/controls",
          "model_name": "ProgressStyleModel",
          "model_module_version": "1.5.0",
          "state": {
            "_model_module": "@jupyter-widgets/controls",
            "_model_module_version": "1.5.0",
            "_model_name": "ProgressStyleModel",
            "_view_count": null,
            "_view_module": "@jupyter-widgets/base",
            "_view_module_version": "1.2.0",
            "_view_name": "StyleView",
            "bar_color": null,
            "description_width": ""
          }
        },
        "d962ae62cfc74de48d3a269b04e20b59": {
          "model_module": "@jupyter-widgets/base",
          "model_name": "LayoutModel",
          "model_module_version": "1.2.0",
          "state": {
            "_model_module": "@jupyter-widgets/base",
            "_model_module_version": "1.2.0",
            "_model_name": "LayoutModel",
            "_view_count": null,
            "_view_module": "@jupyter-widgets/base",
            "_view_module_version": "1.2.0",
            "_view_name": "LayoutView",
            "align_content": null,
            "align_items": null,
            "align_self": null,
            "border": null,
            "bottom": null,
            "display": null,
            "flex": null,
            "flex_flow": null,
            "grid_area": null,
            "grid_auto_columns": null,
            "grid_auto_flow": null,
            "grid_auto_rows": null,
            "grid_column": null,
            "grid_gap": null,
            "grid_row": null,
            "grid_template_areas": null,
            "grid_template_columns": null,
            "grid_template_rows": null,
            "height": null,
            "justify_content": null,
            "justify_items": null,
            "left": null,
            "margin": null,
            "max_height": null,
            "max_width": null,
            "min_height": null,
            "min_width": null,
            "object_fit": null,
            "object_position": null,
            "order": null,
            "overflow": null,
            "overflow_x": null,
            "overflow_y": null,
            "padding": null,
            "right": null,
            "top": null,
            "visibility": null,
            "width": null
          }
        },
        "f069522c3a144b5385349b32fe3510ef": {
          "model_module": "@jupyter-widgets/controls",
          "model_name": "DescriptionStyleModel",
          "model_module_version": "1.5.0",
          "state": {
            "_model_module": "@jupyter-widgets/controls",
            "_model_module_version": "1.5.0",
            "_model_name": "DescriptionStyleModel",
            "_view_count": null,
            "_view_module": "@jupyter-widgets/base",
            "_view_module_version": "1.2.0",
            "_view_name": "StyleView",
            "description_width": ""
          }
        },
        "c1954f300f6a4b3c96d910b2cccdd304": {
          "model_module": "@jupyter-widgets/controls",
          "model_name": "HBoxModel",
          "model_module_version": "1.5.0",
          "state": {
            "_dom_classes": [],
            "_model_module": "@jupyter-widgets/controls",
            "_model_module_version": "1.5.0",
            "_model_name": "HBoxModel",
            "_view_count": null,
            "_view_module": "@jupyter-widgets/controls",
            "_view_module_version": "1.5.0",
            "_view_name": "HBoxView",
            "box_style": "",
            "children": [
              "IPY_MODEL_79b8bbb2f66d44d588b75c38679b9baf",
              "IPY_MODEL_12c112a947dc4ff98048e5af84e74437",
              "IPY_MODEL_d6c13aa6d68f4c2c986bc2c96717a162"
            ],
            "layout": "IPY_MODEL_2e0e335a4a3d430e8b9de6d72a9e925f"
          }
        },
        "79b8bbb2f66d44d588b75c38679b9baf": {
          "model_module": "@jupyter-widgets/controls",
          "model_name": "HTMLModel",
          "model_module_version": "1.5.0",
          "state": {
            "_dom_classes": [],
            "_model_module": "@jupyter-widgets/controls",
            "_model_module_version": "1.5.0",
            "_model_name": "HTMLModel",
            "_view_count": null,
            "_view_module": "@jupyter-widgets/controls",
            "_view_module_version": "1.5.0",
            "_view_name": "HTMLView",
            "description": "",
            "description_tooltip": null,
            "layout": "IPY_MODEL_d1a2d44652f848ef83d4fc48b170c8e0",
            "placeholder": "​",
            "style": "IPY_MODEL_e629591b7ca74ce09276676d17c5e9df",
            "value": "100%"
          }
        },
        "12c112a947dc4ff98048e5af84e74437": {
          "model_module": "@jupyter-widgets/controls",
          "model_name": "FloatProgressModel",
          "model_module_version": "1.5.0",
          "state": {
            "_dom_classes": [],
            "_model_module": "@jupyter-widgets/controls",
            "_model_module_version": "1.5.0",
            "_model_name": "FloatProgressModel",
            "_view_count": null,
            "_view_module": "@jupyter-widgets/controls",
            "_view_module_version": "1.5.0",
            "_view_name": "ProgressView",
            "bar_style": "success",
            "description": "",
            "description_tooltip": null,
            "layout": "IPY_MODEL_15c5871901774bcf8b3ae99ccf1549fa",
            "max": 120,
            "min": 0,
            "orientation": "horizontal",
            "style": "IPY_MODEL_5b72250017ff4be69ed0459895a32158",
            "value": 120
          }
        },
        "d6c13aa6d68f4c2c986bc2c96717a162": {
          "model_module": "@jupyter-widgets/controls",
          "model_name": "HTMLModel",
          "model_module_version": "1.5.0",
          "state": {
            "_dom_classes": [],
            "_model_module": "@jupyter-widgets/controls",
            "_model_module_version": "1.5.0",
            "_model_name": "HTMLModel",
            "_view_count": null,
            "_view_module": "@jupyter-widgets/controls",
            "_view_module_version": "1.5.0",
            "_view_name": "HTMLView",
            "description": "",
            "description_tooltip": null,
            "layout": "IPY_MODEL_8922e4a4cb564aed8c0e7de2e1bb6e39",
            "placeholder": "​",
            "style": "IPY_MODEL_2ff46111d87c4ba4aac5af9e23a68f45",
            "value": " 120/120 [00:15&lt;00:00,  6.23it/s]"
          }
        },
        "2e0e335a4a3d430e8b9de6d72a9e925f": {
          "model_module": "@jupyter-widgets/base",
          "model_name": "LayoutModel",
          "model_module_version": "1.2.0",
          "state": {
            "_model_module": "@jupyter-widgets/base",
            "_model_module_version": "1.2.0",
            "_model_name": "LayoutModel",
            "_view_count": null,
            "_view_module": "@jupyter-widgets/base",
            "_view_module_version": "1.2.0",
            "_view_name": "LayoutView",
            "align_content": null,
            "align_items": null,
            "align_self": null,
            "border": null,
            "bottom": null,
            "display": null,
            "flex": null,
            "flex_flow": null,
            "grid_area": null,
            "grid_auto_columns": null,
            "grid_auto_flow": null,
            "grid_auto_rows": null,
            "grid_column": null,
            "grid_gap": null,
            "grid_row": null,
            "grid_template_areas": null,
            "grid_template_columns": null,
            "grid_template_rows": null,
            "height": null,
            "justify_content": null,
            "justify_items": null,
            "left": null,
            "margin": null,
            "max_height": null,
            "max_width": null,
            "min_height": null,
            "min_width": null,
            "object_fit": null,
            "object_position": null,
            "order": null,
            "overflow": null,
            "overflow_x": null,
            "overflow_y": null,
            "padding": null,
            "right": null,
            "top": null,
            "visibility": null,
            "width": null
          }
        },
        "d1a2d44652f848ef83d4fc48b170c8e0": {
          "model_module": "@jupyter-widgets/base",
          "model_name": "LayoutModel",
          "model_module_version": "1.2.0",
          "state": {
            "_model_module": "@jupyter-widgets/base",
            "_model_module_version": "1.2.0",
            "_model_name": "LayoutModel",
            "_view_count": null,
            "_view_module": "@jupyter-widgets/base",
            "_view_module_version": "1.2.0",
            "_view_name": "LayoutView",
            "align_content": null,
            "align_items": null,
            "align_self": null,
            "border": null,
            "bottom": null,
            "display": null,
            "flex": null,
            "flex_flow": null,
            "grid_area": null,
            "grid_auto_columns": null,
            "grid_auto_flow": null,
            "grid_auto_rows": null,
            "grid_column": null,
            "grid_gap": null,
            "grid_row": null,
            "grid_template_areas": null,
            "grid_template_columns": null,
            "grid_template_rows": null,
            "height": null,
            "justify_content": null,
            "justify_items": null,
            "left": null,
            "margin": null,
            "max_height": null,
            "max_width": null,
            "min_height": null,
            "min_width": null,
            "object_fit": null,
            "object_position": null,
            "order": null,
            "overflow": null,
            "overflow_x": null,
            "overflow_y": null,
            "padding": null,
            "right": null,
            "top": null,
            "visibility": null,
            "width": null
          }
        },
        "e629591b7ca74ce09276676d17c5e9df": {
          "model_module": "@jupyter-widgets/controls",
          "model_name": "DescriptionStyleModel",
          "model_module_version": "1.5.0",
          "state": {
            "_model_module": "@jupyter-widgets/controls",
            "_model_module_version": "1.5.0",
            "_model_name": "DescriptionStyleModel",
            "_view_count": null,
            "_view_module": "@jupyter-widgets/base",
            "_view_module_version": "1.2.0",
            "_view_name": "StyleView",
            "description_width": ""
          }
        },
        "15c5871901774bcf8b3ae99ccf1549fa": {
          "model_module": "@jupyter-widgets/base",
          "model_name": "LayoutModel",
          "model_module_version": "1.2.0",
          "state": {
            "_model_module": "@jupyter-widgets/base",
            "_model_module_version": "1.2.0",
            "_model_name": "LayoutModel",
            "_view_count": null,
            "_view_module": "@jupyter-widgets/base",
            "_view_module_version": "1.2.0",
            "_view_name": "LayoutView",
            "align_content": null,
            "align_items": null,
            "align_self": null,
            "border": null,
            "bottom": null,
            "display": null,
            "flex": null,
            "flex_flow": null,
            "grid_area": null,
            "grid_auto_columns": null,
            "grid_auto_flow": null,
            "grid_auto_rows": null,
            "grid_column": null,
            "grid_gap": null,
            "grid_row": null,
            "grid_template_areas": null,
            "grid_template_columns": null,
            "grid_template_rows": null,
            "height": null,
            "justify_content": null,
            "justify_items": null,
            "left": null,
            "margin": null,
            "max_height": null,
            "max_width": null,
            "min_height": null,
            "min_width": null,
            "object_fit": null,
            "object_position": null,
            "order": null,
            "overflow": null,
            "overflow_x": null,
            "overflow_y": null,
            "padding": null,
            "right": null,
            "top": null,
            "visibility": null,
            "width": null
          }
        },
        "5b72250017ff4be69ed0459895a32158": {
          "model_module": "@jupyter-widgets/controls",
          "model_name": "ProgressStyleModel",
          "model_module_version": "1.5.0",
          "state": {
            "_model_module": "@jupyter-widgets/controls",
            "_model_module_version": "1.5.0",
            "_model_name": "ProgressStyleModel",
            "_view_count": null,
            "_view_module": "@jupyter-widgets/base",
            "_view_module_version": "1.2.0",
            "_view_name": "StyleView",
            "bar_color": null,
            "description_width": ""
          }
        },
        "8922e4a4cb564aed8c0e7de2e1bb6e39": {
          "model_module": "@jupyter-widgets/base",
          "model_name": "LayoutModel",
          "model_module_version": "1.2.0",
          "state": {
            "_model_module": "@jupyter-widgets/base",
            "_model_module_version": "1.2.0",
            "_model_name": "LayoutModel",
            "_view_count": null,
            "_view_module": "@jupyter-widgets/base",
            "_view_module_version": "1.2.0",
            "_view_name": "LayoutView",
            "align_content": null,
            "align_items": null,
            "align_self": null,
            "border": null,
            "bottom": null,
            "display": null,
            "flex": null,
            "flex_flow": null,
            "grid_area": null,
            "grid_auto_columns": null,
            "grid_auto_flow": null,
            "grid_auto_rows": null,
            "grid_column": null,
            "grid_gap": null,
            "grid_row": null,
            "grid_template_areas": null,
            "grid_template_columns": null,
            "grid_template_rows": null,
            "height": null,
            "justify_content": null,
            "justify_items": null,
            "left": null,
            "margin": null,
            "max_height": null,
            "max_width": null,
            "min_height": null,
            "min_width": null,
            "object_fit": null,
            "object_position": null,
            "order": null,
            "overflow": null,
            "overflow_x": null,
            "overflow_y": null,
            "padding": null,
            "right": null,
            "top": null,
            "visibility": null,
            "width": null
          }
        },
        "2ff46111d87c4ba4aac5af9e23a68f45": {
          "model_module": "@jupyter-widgets/controls",
          "model_name": "DescriptionStyleModel",
          "model_module_version": "1.5.0",
          "state": {
            "_model_module": "@jupyter-widgets/controls",
            "_model_module_version": "1.5.0",
            "_model_name": "DescriptionStyleModel",
            "_view_count": null,
            "_view_module": "@jupyter-widgets/base",
            "_view_module_version": "1.2.0",
            "_view_name": "StyleView",
            "description_width": ""
          }
        }
      }
    }
  },
  "cells": [
    {
      "cell_type": "code",
      "execution_count": null,
      "metadata": {
        "id": "Q2LTwvGlvCNo"
      },
      "outputs": [],
      "source": [
        "import math # 수학 패키지\n",
        "import torch # 파이토치 모듈\n",
        "import matplotlib.pyplot as plt # 시각화\n",
        "import numpy as np # 넘파이\n",
        "import pandas as pd # 판다스\n",
        "import torch.nn as nn\n",
        "import torch.optim as optim"
      ]
    },
    {
      "cell_type": "code",
      "source": [
        "# 디바이스 할당\n",
        "device = torch.device('cuda:0' if torch.cuda.is_available() else 'cpu')\n",
        "print(device)"
      ],
      "metadata": {
        "colab": {
          "base_uri": "https://localhost:8080/"
        },
        "id": "G9gitR9NvQI9",
        "outputId": "b516751e-84d3-47fa-bbe6-01881e6aef5d"
      },
      "execution_count": null,
      "outputs": [
        {
          "output_type": "stream",
          "name": "stdout",
          "text": [
            "cuda:0\n"
          ]
        }
      ]
    },
    {
      "cell_type": "code",
      "source": [
        "import torchvision.datasets as datasets\n",
        "\n",
        "# 다운로드 받을 디렉터리명\n",
        "data_root = './data'\n",
        "\n",
        "train_set0 = datasets.MNIST(\n",
        "    # 원본 데이터를 다운로드 받을 디렉터리 지정\n",
        "    root = data_root,\n",
        "    # 훈련 데이터인지 또는 검증 데이터인지\n",
        "    train = True,\n",
        "    # 원본 데이터가 없는 경우, 다운로드를 실행하는지 여부\n",
        "    download = True\n",
        ")"
      ],
      "metadata": {
        "id": "bIKHg23wv9NO",
        "colab": {
          "base_uri": "https://localhost:8080/"
        },
        "outputId": "2987cadd-5285-45dc-823d-549738eb5c47"
      },
      "execution_count": null,
      "outputs": [
        {
          "output_type": "stream",
          "name": "stdout",
          "text": [
            "Downloading data from https://storage.googleapis.com/tensorflow/tf-keras-datasets/mnist.npz\n",
            "11490434/11490434 [==============================] - 1s 0us/step\n",
            "(60000, 28, 28)\n",
            "(60000,)\n",
            "(10000, 28, 28)\n",
            "(10000,)\n"
          ]
        }
      ]
    },
    {
      "cell_type": "code",
      "source": [
        "# 정답 데이터와 함께 처음 20개 데이터를 이미지로 출력\n",
        "\n",
        "plt.figure(figsize=(10,3))\n",
        "for i in range(20):\n",
        "  ax = plt.subplot(2,10,i+1)\n",
        "\n",
        "  # image와 label 취득\n",
        "  image,label = train_set0[i]\n",
        "\n",
        "  # 이미지 출력\n",
        "  plt.imshow(image, cmap='gray_r')\n",
        "  ax.set_title(f'{label}')\n",
        "  ax.get_xaxis().set_visible(False)\n",
        "  ax.get_yaxis().set_visible(False)\n",
        "plt.show()"
      ],
      "metadata": {
        "colab": {
          "base_uri": "https://localhost:8080/",
          "height": 183
        },
        "id": "YQUcXVrgusvM",
        "outputId": "ec98e2f4-1add-4b39-8aa5-c30aede5ebb6"
      },
      "execution_count": null,
      "outputs": [
        {
          "output_type": "display_data",
          "data": {
            "text/plain": [
              "<Figure size 720x216 with 20 Axes>"
            ],
            "image/png": "[encoded data removed]"
          },
          "metadata": {
            "needs_background": "light"
          }
        }
      ]
    },
    {
      "cell_type": "code",
      "source": [
        "# 입력 데이터를 이미지로 출력\n",
        "plt.figure(figsize=(1,1))\n",
        "plt.title(f'{label}')\n",
        "plt.imshow(image)\n",
        "plt.imshow(image, cmap='gray_r')\n",
        "# plt.axis('off')\n",
        "plt.show()"
      ],
      "metadata": {
        "colab": {
          "base_uri": "https://localhost:8080/",
          "height": 118
        },
        "id": "USkqk-70tfia",
        "outputId": "29f094a3-e52a-4fea-8215-e69e8f4758d9"
      },
      "execution_count": null,
      "outputs": [
        {
          "output_type": "display_data",
          "data": {
            "text/plain": [
              "<Figure size 72x72 with 1 Axes>"
            ],
            "image/png": "[encoded data removed]"
          },
          "metadata": {
            "needs_background": "light"
          }
        }
      ]
    },
    {
      "cell_type": "code",
      "source": [
        "import torchvision.transforms as transforms\n",
        "\n",
        "transform1 = transforms.Compose([\n",
        "    # 데이터를 텐서로 변환\n",
        "    transforms.ToTensor(),\n",
        "])\n",
        "\n",
        "train_set1 = datasets.MNIST(\n",
        "    root = data_root,\n",
        "    train = True,\n",
        "    download = True,\n",
        "    transform = transform1\n",
        ")"
      ],
      "metadata": {
        "id": "_nFxbAHIvSBC"
      },
      "execution_count": null,
      "outputs": []
    },
    {
      "cell_type": "code",
      "source": [
        "# 변환 결과 확인\n",
        "\n",
        "image, label = train_set2[0]\n",
        "print('입력 데이터 타입 : ', type(image))\n",
        "print('입력 데이터 shape : ', image.shape)\n",
        "print('최솟값 : ', image.data.min())\n",
        "print('최댓값 : ', image.data.max())"
      ],
      "metadata": {
        "colab": {
          "base_uri": "https://localhost:8080/"
        },
        "id": "uK2ybXsOvvCE",
        "outputId": "ebcd9ae2-8bdd-4402-a17b-3fd1b01b8305"
      },
      "execution_count": null,
      "outputs": [
        {
          "output_type": "stream",
          "name": "stdout",
          "text": [
            "입력 데이터 타입 :  <class 'torch.Tensor'>\n",
            "입력 데이터 shape :  torch.Size([784])\n",
            "최솟값 :  tensor(-1.)\n",
            "최댓값 :  tensor(1.)\n"
          ]
        }
      ]
    },
    {
      "cell_type": "code",
      "source": [
        "image"
      ],
      "metadata": {
        "id": "I8K_GHPGwT4d"
      },
      "execution_count": null,
      "outputs": []
    },
    {
      "cell_type": "code",
      "source": [
        "transform2 = transforms.Compose([\n",
        "    # 데이터를 텐서로 변환\n",
        "    transforms.ToTensor(),\n",
        "\n",
        "    # 데이터 정규화\n",
        "    transforms.Normalize(0.5,0.5),\n",
        "\n",
        "    # 현재 텐서를 1계 텐서로 변환\n",
        "    transforms.Lambda(lambda x: x.view(-1)),\n",
        "])\n",
        "\n",
        "train_set2 = datasets.MNIST(\n",
        "    root = data_root,\n",
        "    train = True,\n",
        "    download = True,\n",
        "    transform = transform2\n",
        ")"
      ],
      "metadata": {
        "id": "mDyTvyOIwaqI"
      },
      "execution_count": null,
      "outputs": []
    },
    {
      "cell_type": "code",
      "source": [
        "# 데이터 입수를 위한 Dataset 함수\n",
        "\n",
        "# 훈련용 데이터셋 정의\n",
        "train_set = datasets.MNIST(\n",
        "    root = data_root,\n",
        "    train = True,\n",
        "    download = True,\n",
        "    transform = transform2\n",
        ")\n",
        "# 검증용 데이터셋 정의\n",
        "test_set = datasets.MNIST(\n",
        "    root = data_root,\n",
        "    train = False,\n",
        "    download = True,\n",
        "    transform = transform2\n",
        ")"
      ],
      "metadata": {
        "id": "_UP3m3gKxS86"
      },
      "execution_count": null,
      "outputs": []
    },
    {
      "cell_type": "code",
      "source": [
        "# 라이브러리 임포트\n",
        "from torch.utils.data import DataLoader\n",
        "\n",
        "# 미니 배치 사이즈 지정\n",
        "batch_size = 500\n",
        "\n",
        "# 훈련용 데이터로더\n",
        "# 훈련용이므로, 셔플을 적용함\n",
        "train_loader = DataLoader(\n",
        "    train_set,\n",
        "    batch_size = batch_size,\n",
        "    shuffle = True\n",
        ")\n",
        "\n",
        "# 검증용 데이터로더\n",
        "# 검증시에는 셔플을 필요로 하지 않음\n",
        "test_loader = DataLoader(\n",
        "    test_set,\n",
        "    batch_size = batch_size,\n",
        "    shuffle = False\n",
        ")"
      ],
      "metadata": {
        "id": "E06a5KsHzRmz"
      },
      "execution_count": null,
      "outputs": []
    },
    {
      "cell_type": "code",
      "source": [
        "# 몇 개의 그룹으로 데이터를 가져올 수 있는가\n",
        "print(len(train_loader))\n",
        "\n",
        "# 데이터로더로부터 가장 처음 한 세트를 가져옴\n",
        "for imaages,labels in train_loader:\n",
        "  break\n",
        "print(image.shape)\n",
        "print(labels.shape)"
      ],
      "metadata": {
        "colab": {
          "base_uri": "https://localhost:8080/"
        },
        "id": "0SnCg5j2zXNa",
        "outputId": "26ed0d78-5084-4100-842a-ad4c681dfb66"
      },
      "execution_count": null,
      "outputs": [
        {
          "output_type": "stream",
          "name": "stdout",
          "text": [
            "120\n",
            "torch.Size([784])\n",
            "torch.Size([500])\n"
          ]
        }
      ]
    },
    {
      "cell_type": "code",
      "source": [
        "# 입력 차원수\n",
        "n_input = image.shape[0]\n",
        "\n",
        "# 출력 차원수\n",
        "# 분류 클래스 수는 10\n",
        "n_output = len(labels.unique())\n",
        "\n",
        "# 은닉층의 노드 수\n",
        "n_hidden = 128"
      ],
      "metadata": {
        "id": "3OLcQLmj0B7e"
      },
      "execution_count": null,
      "outputs": []
    },
    {
      "cell_type": "code",
      "source": [
        "# 모델 정의\n",
        "# 784입력 10출력 1은닉층의 신경망 모델\n",
        "\n",
        "class Net(nn.Module):\n",
        "  def __init__(self,n_input,n_output,n_hidden):\n",
        "    super().__init__()\n",
        "\n",
        "    # 은닉층 정의(은닉층 노드 수 : n_hidden)\n",
        "    self.l1 = nn.Linear(n_input,n_hidden)\n",
        "\n",
        "    #출력층 정의\n",
        "    self.l2 = nn.Linear(n_hidden,n_output)\n",
        "\n",
        "    # ReLU 함수 정의\n",
        "    self.relu = nn.ReLU(inplace=True)\n",
        "\n",
        "  def forward(self,x):\n",
        "    x1 = self.l1(x)\n",
        "    x2 = self.relu(x1)\n",
        "    x3 = self.l2(x2)\n",
        "    return x3"
      ],
      "metadata": {
        "id": "5oTlL5rk1jbK"
      },
      "execution_count": null,
      "outputs": []
    },
    {
      "cell_type": "code",
      "source": [
        "# 난수 고정\n",
        "torch.cuda.manual_seed(123)\n",
        "torch.backends.cudnn.deteministic = True\n",
        "torch.use_deterministic_algorithms = True\n",
        "\n",
        "# 학습률\n",
        "lr = 0.01\n",
        "\n",
        "# 모델 초기화\n",
        "net = Net(n_input, n_output, n_hidden).to(device)\n",
        "\n",
        "# 손실함수 : 교차 엔트로피 함수\n",
        "criterion = nn.CrossEntropyLoss()\n",
        "\n",
        "# 최적화 함수 : 경사 하강법\n",
        "optimizer = optim.Adam(net.parameters(), lr=lr)\n",
        "\n",
        "# 반복 횟수\n",
        "num_epochs = 100\n",
        "\n",
        "# 평가 결과 기록\n",
        "history = np.zeros((0,5))"
      ],
      "metadata": {
        "id": "bHa2Wy2821cJ"
      },
      "execution_count": null,
      "outputs": []
    },
    {
      "cell_type": "code",
      "source": [
        "# 모델 내부 파라미터 확인\n",
        "# l1.weight, l1.bias, l2.weight, l2.bias를 확인할 수 있음\n",
        "\n",
        "for parameter in net.named_parameters():\n",
        "  print(parameter)"
      ],
      "metadata": {
        "id": "-qjO_qBm7Qx5"
      },
      "execution_count": null,
      "outputs": []
    },
    {
      "cell_type": "code",
      "source": [
        "# 모델 개요 표시 1\n",
        "print(net)"
      ],
      "metadata": {
        "colab": {
          "base_uri": "https://localhost:8080/"
        },
        "id": "dtin4KP_8JG4",
        "outputId": "6f22b5c6-4886-4b24-93a9-22cc2f33321a"
      },
      "execution_count": null,
      "outputs": [
        {
          "output_type": "stream",
          "name": "stdout",
          "text": [
            "Net(\n",
            "  (l1): Linear(in_features=784, out_features=128, bias=True)\n",
            "  (l2): Linear(in_features=128, out_features=10, bias=True)\n",
            "  (relu): ReLU(inplace=True)\n",
            ")\n"
          ]
        }
      ]
    },
    {
      "cell_type": "code",
      "source": [
        "!pip install torchinfo | tail -n 1"
      ],
      "metadata": {
        "colab": {
          "base_uri": "https://localhost:8080/"
        },
        "id": "MPnbPBYX8OVt",
        "outputId": "fd622407-dbe1-4784-a6c9-9728c7998e94"
      },
      "execution_count": null,
      "outputs": [
        {
          "output_type": "stream",
          "name": "stdout",
          "text": [
            "Successfully installed torchinfo-1.7.2\n"
          ]
        }
      ]
    },
    {
      "cell_type": "code",
      "source": [
        "from torchinfo import summary"
      ],
      "metadata": {
        "id": "kqZxLqoN8S0R"
      },
      "execution_count": null,
      "outputs": []
    },
    {
      "cell_type": "code",
      "source": [
        "# 모델 개요 표시 2\n",
        "summary(net, (784,))"
      ],
      "metadata": {
        "colab": {
          "base_uri": "https://localhost:8080/"
        },
        "id": "8Ne9raQN8XjB",
        "outputId": "d926aa0d-e033-4166-c0ab-4fa5c6cc27c1"
      },
      "execution_count": null,
      "outputs": [
        {
          "output_type": "execute_result",
          "data": {
            "text/plain": [
              "==========================================================================================\n",
              "Layer (type:depth-idx)                   Output Shape              Param #\n",
              "==========================================================================================\n",
              "Net                                      [10]                      --\n",
              "├─Linear: 1-1                            [128]                     100,480\n",
              "├─ReLU: 1-2                              [128]                     --\n",
              "├─Linear: 1-3                            [10]                      1,290\n",
              "==========================================================================================\n",
              "Total params: 101,770\n",
              "Trainable params: 101,770\n",
              "Non-trainable params: 0\n",
              "Total mult-adds (M): 12.87\n",
              "==========================================================================================\n",
              "Input size (MB): 0.00\n",
              "Forward/backward pass size (MB): 0.00\n",
              "Params size (MB): 0.41\n",
              "Estimated Total Size (MB): 0.41\n",
              "=========================================================================================="
            ]
          },
          "metadata": {},
          "execution_count": 67
        }
      ]
    },
    {
      "cell_type": "code",
      "source": [
        "n_train = 0, 0\n",
        "# tqdm 라이브러리 임포트\n",
        "from tqdm.notebook import tqdm\n",
        "#훈련 페이즈\n",
        "for inputs, labels in tqdm(train_loader):\n",
        "  n_train += len(labels)"
      ],
      "metadata": {
        "colab": {
          "base_uri": "https://localhost:8080/",
          "height": 241,
          "referenced_widgets": [
            "15d9212c2d03484bab70653575869941",
            "f89bd11e6172406395d54080871443cb",
            "25e1b516c9444fdcb599a57f7404df72",
            "719bc10e8e4b48e9b9b66355b2e79b84",
            "445bac882d534301927ddd0c976f3fb2",
            "79cc0860de5644d28f98acce8a0404ca",
            "4e6286ee77a34e09b20a8bd7a9dd7fa6",
            "1b14ffba04f5478ab0411cfdb9ec461c",
            "d233090d95eb49e89fb5beaf4246df45",
            "d962ae62cfc74de48d3a269b04e20b59",
            "f069522c3a144b5385349b32fe3510ef"
          ]
        },
        "id": "4HGJPwAO8hCl",
        "outputId": "754377ff-193d-4395-df8b-4cc808185cab"
      },
      "execution_count": null,
      "outputs": [
        {
          "output_type": "display_data",
          "data": {
            "text/plain": [
              "  0%|          | 0/120 [00:00<?, ?it/s]"
            ],
            "application/vnd.jupyter.widget-view+json": {
              "version_major": 2,
              "version_minor": 0,
              "model_id": "15d9212c2d03484bab70653575869941"
            }
          },
          "metadata": {}
        },
        {
          "output_type": "error",
          "ename": "TypeError",
          "evalue": "ignored",
          "traceback": [
            "\u001b[0;31m---------------------------------------------------------------------------\u001b[0m",
            "\u001b[0;31mTypeError\u001b[0m                                 Traceback (most recent call last)",
            "\u001b[0;32m<ipython-input-68-d474cb51a17c>\u001b[0m in \u001b[0;36m<module>\u001b[0;34m\u001b[0m\n\u001b[1;32m      4\u001b[0m \u001b[0;31m#훈련 페이즈\u001b[0m\u001b[0;34m\u001b[0m\u001b[0;34m\u001b[0m\u001b[0m\n\u001b[1;32m      5\u001b[0m \u001b[0;32mfor\u001b[0m \u001b[0minputs\u001b[0m\u001b[0;34m,\u001b[0m \u001b[0mlabels\u001b[0m \u001b[0;32min\u001b[0m \u001b[0mtqdm\u001b[0m\u001b[0;34m(\u001b[0m\u001b[0mtrain_loader\u001b[0m\u001b[0;34m)\u001b[0m\u001b[0;34m:\u001b[0m\u001b[0;34m\u001b[0m\u001b[0;34m\u001b[0m\u001b[0m\n\u001b[0;32m----> 6\u001b[0;31m   \u001b[0mn_train\u001b[0m \u001b[0;34m+=\u001b[0m \u001b[0mlen\u001b[0m\u001b[0;34m(\u001b[0m\u001b[0mlabels\u001b[0m\u001b[0;34m)\u001b[0m\u001b[0;34m\u001b[0m\u001b[0;34m\u001b[0m\u001b[0m\n\u001b[0m",
            "\u001b[0;31mTypeError\u001b[0m: can only concatenate tuple (not \"int\") to tuple"
          ]
        }
      ]
    },
    {
      "cell_type": "code",
      "source": [
        "# 반복 계산 메인 루프\n",
        "for epoch in range(5):\n",
        "  train_acc, train_loss = 0,0\n",
        "  val_acc, val_loss = 0, 0\n",
        "  n_train, n_test = 0, 0\n",
        "\n",
        "  #훈련 페이즈\n",
        "  for inputs, labels in tqdm(train_loader):\n",
        "    n_train += len(labels)\n",
        "\n",
        "    # GPU로 전송\n",
        "    inputs = inputs.to(device)\n",
        "    labels = labels.to(device)\n",
        "\n",
        "    # 경사 초기화\n",
        "    optimizer.zero_grad()\n",
        "\n",
        "    # 예측 계산\n",
        "    outputs = net(inputs)\n",
        "\n",
        "    # 손실 계산\n",
        "    loss = criterion(outputs, labels)\n",
        "\n",
        "    # 경사 계산\n",
        "    loss.backward()\n",
        "\n",
        "    # 파라미터 수정\n",
        "    optimizer.step()\n",
        "\n",
        "    # 예측 라벨 산출\n",
        "    predicted = outputs.max(axis=1)[1]\n",
        "\n",
        "    # 손실과 정확도 계산\n",
        "    train_loss += loss.item()\n",
        "    train_acc += (predicted == labels).sum().item()\n",
        "  # 예측 페이즈\n",
        "  for inputs_test, labels_test in test_loader:\n",
        "    n_test += len(labels_test)\n",
        "\n",
        "    inputs_test = inputs_test.to(device)\n",
        "    labels_test = labels_test.to(device)\n",
        "\n",
        "    #예측 계산\n",
        "    outputs_test = net(inputs)\n",
        "\n",
        "    #손실 계산\n",
        "    loss_test = criterion(outputs_test, labels_test)\n",
        "\n",
        "    # 예측 라벨 산출\n",
        "    predicted_test = outputs_test.max(axis=1)[1]\n",
        "\n",
        "    # 손실과 정확도 계산\n",
        "    val_loss += loss_test.item()\n",
        "    val_acc += (predicted_test == labels_test).sum().item()\n",
        "  # 평가 결과 산출, 기록\n",
        "  train_acc = train_acc / n_train # Train 정확도\n",
        "  val_acc = val_acc / n_test # Test 정확도\n",
        "  train_loss = train_loss / n_train # Train loss\n",
        "  val_loss = val_loss , n_test # test loss\n",
        "  item = np.array([epoch+1 , train_loss, train_acc,val_loss,val_acc])\n",
        "  history = np.vstack((history,item)) # eoch 마다 손실 정확도 저장\n",
        "  #print(f\"Epoch [{epoch+1}/5], loss: {train_loss:.5f} acc: {train_acc:.5f} val_loss : {val_loss:.5f}, val_acc: {val_acc:.5f}\")"
      ],
      "metadata": {
        "colab": {
          "base_uri": "https://localhost:8080/",
          "height": 297,
          "referenced_widgets": [
            "c1954f300f6a4b3c96d910b2cccdd304",
            "79b8bbb2f66d44d588b75c38679b9baf",
            "12c112a947dc4ff98048e5af84e74437",
            "d6c13aa6d68f4c2c986bc2c96717a162",
            "2e0e335a4a3d430e8b9de6d72a9e925f",
            "d1a2d44652f848ef83d4fc48b170c8e0",
            "e629591b7ca74ce09276676d17c5e9df",
            "15c5871901774bcf8b3ae99ccf1549fa",
            "5b72250017ff4be69ed0459895a32158",
            "8922e4a4cb564aed8c0e7de2e1bb6e39",
            "2ff46111d87c4ba4aac5af9e23a68f45"
          ]
        },
        "id": "r4hBzh7l87s1",
        "outputId": "f2e4b68a-7bf0-497a-ef76-f3477e0a45f4"
      },
      "execution_count": null,
      "outputs": [
        {
          "output_type": "display_data",
          "data": {
            "text/plain": [
              "  0%|          | 0/120 [00:00<?, ?it/s]"
            ],
            "application/vnd.jupyter.widget-view+json": {
              "version_major": 2,
              "version_minor": 0,
              "model_id": "c1954f300f6a4b3c96d910b2cccdd304"
            }
          },
          "metadata": {}
        },
        {
          "output_type": "stream",
          "name": "stderr",
          "text": [
            "<ipython-input-75-b1851288b42c>:60: VisibleDeprecationWarning: Creating an ndarray from ragged nested sequences (which is a list-or-tuple of lists-or-tuples-or ndarrays with different lengths or shapes) is deprecated. If you meant to do this, you must specify 'dtype=object' when creating the ndarray.\n",
            "  item = np.array([epoch+1 , train_loss, train_acc,val_loss,val_acc])\n"
          ]
        },
        {
          "output_type": "error",
          "ename": "TypeError",
          "evalue": "ignored",
          "traceback": [
            "\u001b[0;31m---------------------------------------------------------------------------\u001b[0m",
            "\u001b[0;31mTypeError\u001b[0m                                 Traceback (most recent call last)",
            "\u001b[0;32m<ipython-input-75-b1851288b42c>\u001b[0m in \u001b[0;36m<module>\u001b[0;34m\u001b[0m\n\u001b[1;32m     60\u001b[0m   \u001b[0mitem\u001b[0m \u001b[0;34m=\u001b[0m \u001b[0mnp\u001b[0m\u001b[0;34m.\u001b[0m\u001b[0marray\u001b[0m\u001b[0;34m(\u001b[0m\u001b[0;34m[\u001b[0m\u001b[0mepoch\u001b[0m\u001b[0;34m+\u001b[0m\u001b[0;36m1\u001b[0m \u001b[0;34m,\u001b[0m \u001b[0mtrain_loss\u001b[0m\u001b[0;34m,\u001b[0m \u001b[0mtrain_acc\u001b[0m\u001b[0;34m,\u001b[0m\u001b[0mval_loss\u001b[0m\u001b[0;34m,\u001b[0m\u001b[0mval_acc\u001b[0m\u001b[0;34m]\u001b[0m\u001b[0;34m)\u001b[0m\u001b[0;34m\u001b[0m\u001b[0;34m\u001b[0m\u001b[0m\n\u001b[1;32m     61\u001b[0m   \u001b[0mhistory\u001b[0m \u001b[0;34m=\u001b[0m \u001b[0mnp\u001b[0m\u001b[0;34m.\u001b[0m\u001b[0mvstack\u001b[0m\u001b[0;34m(\u001b[0m\u001b[0;34m(\u001b[0m\u001b[0mhistory\u001b[0m\u001b[0;34m,\u001b[0m\u001b[0mitem\u001b[0m\u001b[0;34m)\u001b[0m\u001b[0;34m)\u001b[0m \u001b[0;31m# eoch 마다 손실 정확도 저장\u001b[0m\u001b[0;34m\u001b[0m\u001b[0;34m\u001b[0m\u001b[0m\n\u001b[0;32m---> 62\u001b[0;31m   \u001b[0mprint\u001b[0m\u001b[0;34m(\u001b[0m\u001b[0;34mf\"Epoch [{epoch+1}/5], loss: {train_loss:.5f} acc: {train_acc:.5f} val_loss : {val_loss:.5f}, val_acc: {val_acc:.5f}\"\u001b[0m\u001b[0;34m)\u001b[0m\u001b[0;34m\u001b[0m\u001b[0;34m\u001b[0m\u001b[0m\n\u001b[0m",
            "\u001b[0;31mTypeError\u001b[0m: unsupported format string passed to tuple.__format__"
          ]
        }
      ]
    },
    {
      "cell_type": "code",
      "source": [
        "# 손실과 정확도 확인\n",
        "print(f'초기상태 : 손실 : {history[0,3]:.5f} 정확도 : {history[0,4]:.5f}')\n",
        "print(f'최종상태 : 손실 : {history[-1,3]:.5f} 정확도 : {history[-1,4]:.5f}')"
      ],
      "metadata": {
        "colab": {
          "base_uri": "https://localhost:8080/",
          "height": 209
        },
        "id": "-7vvJWnf-LPH",
        "outputId": "06f62d80-c46a-4d03-acae-8577fd88049c"
      },
      "execution_count": null,
      "outputs": [
        {
          "output_type": "error",
          "ename": "TypeError",
          "evalue": "ignored",
          "traceback": [
            "\u001b[0;31m---------------------------------------------------------------------------\u001b[0m",
            "\u001b[0;31mTypeError\u001b[0m                                 Traceback (most recent call last)",
            "\u001b[0;32m<ipython-input-76-a08cc888d243>\u001b[0m in \u001b[0;36m<module>\u001b[0;34m\u001b[0m\n\u001b[1;32m      1\u001b[0m \u001b[0;31m# 손실과 정확도 확인\u001b[0m\u001b[0;34m\u001b[0m\u001b[0;34m\u001b[0m\u001b[0m\n\u001b[0;32m----> 2\u001b[0;31m \u001b[0mprint\u001b[0m\u001b[0;34m(\u001b[0m\u001b[0;34mf'초기상태 : 손실 : {history[0,3]:.5f} 정확도 : {history[0,4]:.5f}'\u001b[0m\u001b[0;34m)\u001b[0m\u001b[0;34m\u001b[0m\u001b[0;34m\u001b[0m\u001b[0m\n\u001b[0m\u001b[1;32m      3\u001b[0m \u001b[0mprint\u001b[0m\u001b[0;34m(\u001b[0m\u001b[0;34mf'최종상태 : 손실 : {history[-1,3]:.5f} 정확도 : {history[-1,4]:.5f}'\u001b[0m\u001b[0;34m)\u001b[0m\u001b[0;34m\u001b[0m\u001b[0;34m\u001b[0m\u001b[0m\n",
            "\u001b[0;31mTypeError\u001b[0m: unsupported format string passed to tuple.__format__"
          ]
        }
      ]
    },
    {
      "cell_type": "code",
      "source": [],
      "metadata": {
        "id": "k_Tfnq2yATht"
      },
      "execution_count": null,
      "outputs": []
    }
  ]
}